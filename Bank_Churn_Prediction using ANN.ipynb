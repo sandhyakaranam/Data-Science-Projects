{
 "cells": [
  {
   "cell_type": "markdown",
   "metadata": {
    "id": "DRX9f5_6HUNP"
   },
   "source": [
    "# Bank Churn prediction\n",
    " \n",
    "### **Context**:\n",
    "\n",
    "Businesses like banks which provide service have to worry about problem of 'Customer Churn' i.e. customers leaving and joining another service provider. It is important to understand which aspects of the service influence a customer's decision in this regard. Management can concentrate efforts on improvement of service, keeping in mind these priorities.\n",
    "\n",
    "### **Objective**:\n",
    "\n",
    "Let us consider you are working as Data scientist with the  bank and you need to  build a neural network based classifier that can determine whether a customer will leave the bank  or not in the next 6 months.\n",
    "\n",
    "### **Data Dictionary**:\n",
    "\n",
    "The case study is from an open-source dataset from Kaggle.The dataset contains 10,000 sample points with 14 distinct features as follows:\n",
    "\n",
    "CustomerId: Unique ID which is assigned to each customer\n",
    "\n",
    "Surname: Last name of the customer\n",
    " \n",
    "CreditScore: It defines the credit history of the customer.\n",
    "  \n",
    "Geography: A customer’s location \n",
    "   \n",
    "Gender: It defines the Gender of the customer\n",
    "   \n",
    "Age: Age of the customer \n",
    "    \n",
    "Tenure: Number of years for which the customer has been with the bank\n",
    "\n",
    "NumOfProducts: refers to the number of products that a customer has purchased through the bank.\n",
    "\n",
    "Balance: Account balance\n",
    "\n",
    "HasCrCard: It is a categorical variable which decides whether the customer has credit card or not.\n",
    "\n",
    "EstimatedSalary: Estimated salary \n",
    "\n",
    "isActiveMember: Is is a categorical variable which decides whether the customer is active member of the bank or not ( Active member in the sense, using bank products regularly, making transactions etc )\n",
    "\n",
    "Exited : whether or not the customer left the bank within six month. It can take two values \n",
    "\n",
    "0=No ( Customer did not leave the bank )\n",
    "1=Yes ( Customer left the bank )\n",
    "\n"
   ]
  },
  {
   "cell_type": "code",
   "execution_count": 62,
   "metadata": {
    "colab": {
     "base_uri": "https://localhost:8080/"
    },
    "id": "j0mRT6iJrkgJ",
    "outputId": "23e4a033-39d9-45c8-f267-fdccc24d6fa4"
   },
   "outputs": [
    {
     "name": "stdout",
     "output_type": "stream",
     "text": [
      "2.7.0\n"
     ]
    }
   ],
   "source": [
    "#importing tensorflow and checking its version\n",
    "import tensorflow as tf\n",
    "print(tf.__version__)\n",
    "from numpy.random import seed\n",
    "seed(1)\n"
   ]
  },
  {
   "cell_type": "code",
   "execution_count": 63,
   "metadata": {
    "id": "IfeZclzIHUNs"
   },
   "outputs": [],
   "source": [
    "import pandas as pd\n",
    "from tensorflow.keras.models import Sequential\n",
    "from tensorflow.keras.layers import Dense\n",
    "from sklearn import model_selection\n",
    "from sklearn.model_selection import train_test_split\n",
    "from sklearn.preprocessing import LabelEncoder, OneHotEncoder\n",
    "from sklearn.compose import ColumnTransformer\n",
    "from sklearn.metrics import confusion_matrix\n",
    "import matplotlib.pyplot as plt\n",
    "import seaborn as sns\n",
    "\n",
    "from sklearn.pipeline import Pipeline\n",
    "from sklearn.model_selection import GridSearchCV\n",
    "\n",
    "import tensorflow as tf\n",
    "from keras.layers import Dense, Input, Dropout\n",
    "from keras.wrappers.scikit_learn import KerasClassifier\n",
    "import numpy as np\n",
    "\n"
   ]
  },
  {
   "cell_type": "markdown",
   "metadata": {
    "id": "z7ubXtC8HUOA"
   },
   "source": [
    "#### Read the dataset"
   ]
  },
  {
   "cell_type": "code",
   "execution_count": 65,
   "metadata": {
    "id": "1QJLp3P3HUOC"
   },
   "outputs": [],
   "source": [
    "ds = pd.read_csv(\"bank.csv\")"
   ]
  },
  {
   "cell_type": "code",
   "execution_count": 66,
   "metadata": {
    "colab": {
     "base_uri": "https://localhost:8080/",
     "height": 427
    },
    "id": "nCfASHJ8HUOS",
    "outputId": "82f1eb33-9970-4d3e-944d-862e947072e5"
   },
   "outputs": [
    {
     "data": {
      "text/html": [
       "\n",
       "  <div id=\"df-eb2d003f-7c05-48e4-957e-a9e6cab51f92\">\n",
       "    <div class=\"colab-df-container\">\n",
       "      <div>\n",
       "<style scoped>\n",
       "    .dataframe tbody tr th:only-of-type {\n",
       "        vertical-align: middle;\n",
       "    }\n",
       "\n",
       "    .dataframe tbody tr th {\n",
       "        vertical-align: top;\n",
       "    }\n",
       "\n",
       "    .dataframe thead th {\n",
       "        text-align: right;\n",
       "    }\n",
       "</style>\n",
       "<table border=\"1\" class=\"dataframe\">\n",
       "  <thead>\n",
       "    <tr style=\"text-align: right;\">\n",
       "      <th></th>\n",
       "      <th>RowNumber</th>\n",
       "      <th>CustomerId</th>\n",
       "      <th>Surname</th>\n",
       "      <th>CreditScore</th>\n",
       "      <th>Geography</th>\n",
       "      <th>Gender</th>\n",
       "      <th>Age</th>\n",
       "      <th>Tenure</th>\n",
       "      <th>Balance</th>\n",
       "      <th>NumOfProducts</th>\n",
       "      <th>HasCrCard</th>\n",
       "      <th>IsActiveMember</th>\n",
       "      <th>EstimatedSalary</th>\n",
       "      <th>Exited</th>\n",
       "    </tr>\n",
       "  </thead>\n",
       "  <tbody>\n",
       "    <tr>\n",
       "      <th>0</th>\n",
       "      <td>1</td>\n",
       "      <td>15634602</td>\n",
       "      <td>Hargrave</td>\n",
       "      <td>619</td>\n",
       "      <td>France</td>\n",
       "      <td>Female</td>\n",
       "      <td>42</td>\n",
       "      <td>2</td>\n",
       "      <td>0.00</td>\n",
       "      <td>1</td>\n",
       "      <td>1</td>\n",
       "      <td>1</td>\n",
       "      <td>101348.88</td>\n",
       "      <td>1</td>\n",
       "    </tr>\n",
       "    <tr>\n",
       "      <th>1</th>\n",
       "      <td>2</td>\n",
       "      <td>15647311</td>\n",
       "      <td>Hill</td>\n",
       "      <td>608</td>\n",
       "      <td>Spain</td>\n",
       "      <td>Female</td>\n",
       "      <td>41</td>\n",
       "      <td>1</td>\n",
       "      <td>83807.86</td>\n",
       "      <td>1</td>\n",
       "      <td>0</td>\n",
       "      <td>1</td>\n",
       "      <td>112542.58</td>\n",
       "      <td>0</td>\n",
       "    </tr>\n",
       "    <tr>\n",
       "      <th>2</th>\n",
       "      <td>3</td>\n",
       "      <td>15619304</td>\n",
       "      <td>Onio</td>\n",
       "      <td>502</td>\n",
       "      <td>France</td>\n",
       "      <td>Female</td>\n",
       "      <td>42</td>\n",
       "      <td>8</td>\n",
       "      <td>159660.80</td>\n",
       "      <td>3</td>\n",
       "      <td>1</td>\n",
       "      <td>0</td>\n",
       "      <td>113931.57</td>\n",
       "      <td>1</td>\n",
       "    </tr>\n",
       "    <tr>\n",
       "      <th>3</th>\n",
       "      <td>4</td>\n",
       "      <td>15701354</td>\n",
       "      <td>Boni</td>\n",
       "      <td>699</td>\n",
       "      <td>France</td>\n",
       "      <td>Female</td>\n",
       "      <td>39</td>\n",
       "      <td>1</td>\n",
       "      <td>0.00</td>\n",
       "      <td>2</td>\n",
       "      <td>0</td>\n",
       "      <td>0</td>\n",
       "      <td>93826.63</td>\n",
       "      <td>0</td>\n",
       "    </tr>\n",
       "    <tr>\n",
       "      <th>4</th>\n",
       "      <td>5</td>\n",
       "      <td>15737888</td>\n",
       "      <td>Mitchell</td>\n",
       "      <td>850</td>\n",
       "      <td>Spain</td>\n",
       "      <td>Female</td>\n",
       "      <td>43</td>\n",
       "      <td>2</td>\n",
       "      <td>125510.82</td>\n",
       "      <td>1</td>\n",
       "      <td>1</td>\n",
       "      <td>1</td>\n",
       "      <td>79084.10</td>\n",
       "      <td>0</td>\n",
       "    </tr>\n",
       "    <tr>\n",
       "      <th>5</th>\n",
       "      <td>6</td>\n",
       "      <td>15574012</td>\n",
       "      <td>Chu</td>\n",
       "      <td>645</td>\n",
       "      <td>Spain</td>\n",
       "      <td>Male</td>\n",
       "      <td>44</td>\n",
       "      <td>8</td>\n",
       "      <td>113755.78</td>\n",
       "      <td>2</td>\n",
       "      <td>1</td>\n",
       "      <td>0</td>\n",
       "      <td>149756.71</td>\n",
       "      <td>1</td>\n",
       "    </tr>\n",
       "    <tr>\n",
       "      <th>6</th>\n",
       "      <td>7</td>\n",
       "      <td>15592531</td>\n",
       "      <td>Bartlett</td>\n",
       "      <td>822</td>\n",
       "      <td>France</td>\n",
       "      <td>Male</td>\n",
       "      <td>50</td>\n",
       "      <td>7</td>\n",
       "      <td>0.00</td>\n",
       "      <td>2</td>\n",
       "      <td>1</td>\n",
       "      <td>1</td>\n",
       "      <td>10062.80</td>\n",
       "      <td>0</td>\n",
       "    </tr>\n",
       "    <tr>\n",
       "      <th>7</th>\n",
       "      <td>8</td>\n",
       "      <td>15656148</td>\n",
       "      <td>Obinna</td>\n",
       "      <td>376</td>\n",
       "      <td>Germany</td>\n",
       "      <td>Female</td>\n",
       "      <td>29</td>\n",
       "      <td>4</td>\n",
       "      <td>115046.74</td>\n",
       "      <td>4</td>\n",
       "      <td>1</td>\n",
       "      <td>0</td>\n",
       "      <td>119346.88</td>\n",
       "      <td>1</td>\n",
       "    </tr>\n",
       "    <tr>\n",
       "      <th>8</th>\n",
       "      <td>9</td>\n",
       "      <td>15792365</td>\n",
       "      <td>He</td>\n",
       "      <td>501</td>\n",
       "      <td>France</td>\n",
       "      <td>Male</td>\n",
       "      <td>44</td>\n",
       "      <td>4</td>\n",
       "      <td>142051.07</td>\n",
       "      <td>2</td>\n",
       "      <td>0</td>\n",
       "      <td>1</td>\n",
       "      <td>74940.50</td>\n",
       "      <td>0</td>\n",
       "    </tr>\n",
       "    <tr>\n",
       "      <th>9</th>\n",
       "      <td>10</td>\n",
       "      <td>15592389</td>\n",
       "      <td>H?</td>\n",
       "      <td>684</td>\n",
       "      <td>France</td>\n",
       "      <td>Male</td>\n",
       "      <td>27</td>\n",
       "      <td>2</td>\n",
       "      <td>134603.88</td>\n",
       "      <td>1</td>\n",
       "      <td>1</td>\n",
       "      <td>1</td>\n",
       "      <td>71725.73</td>\n",
       "      <td>0</td>\n",
       "    </tr>\n",
       "  </tbody>\n",
       "</table>\n",
       "</div>\n",
       "      <button class=\"colab-df-convert\" onclick=\"convertToInteractive('df-eb2d003f-7c05-48e4-957e-a9e6cab51f92')\"\n",
       "              title=\"Convert this dataframe to an interactive table.\"\n",
       "              style=\"display:none;\">\n",
       "        \n",
       "  <svg xmlns=\"http://www.w3.org/2000/svg\" height=\"24px\"viewBox=\"0 0 24 24\"\n",
       "       width=\"24px\">\n",
       "    <path d=\"M0 0h24v24H0V0z\" fill=\"none\"/>\n",
       "    <path d=\"M18.56 5.44l.94 2.06.94-2.06 2.06-.94-2.06-.94-.94-2.06-.94 2.06-2.06.94zm-11 1L8.5 8.5l.94-2.06 2.06-.94-2.06-.94L8.5 2.5l-.94 2.06-2.06.94zm10 10l.94 2.06.94-2.06 2.06-.94-2.06-.94-.94-2.06-.94 2.06-2.06.94z\"/><path d=\"M17.41 7.96l-1.37-1.37c-.4-.4-.92-.59-1.43-.59-.52 0-1.04.2-1.43.59L10.3 9.45l-7.72 7.72c-.78.78-.78 2.05 0 2.83L4 21.41c.39.39.9.59 1.41.59.51 0 1.02-.2 1.41-.59l7.78-7.78 2.81-2.81c.8-.78.8-2.07 0-2.86zM5.41 20L4 18.59l7.72-7.72 1.47 1.35L5.41 20z\"/>\n",
       "  </svg>\n",
       "      </button>\n",
       "      \n",
       "  <style>\n",
       "    .colab-df-container {\n",
       "      display:flex;\n",
       "      flex-wrap:wrap;\n",
       "      gap: 12px;\n",
       "    }\n",
       "\n",
       "    .colab-df-convert {\n",
       "      background-color: #E8F0FE;\n",
       "      border: none;\n",
       "      border-radius: 50%;\n",
       "      cursor: pointer;\n",
       "      display: none;\n",
       "      fill: #1967D2;\n",
       "      height: 32px;\n",
       "      padding: 0 0 0 0;\n",
       "      width: 32px;\n",
       "    }\n",
       "\n",
       "    .colab-df-convert:hover {\n",
       "      background-color: #E2EBFA;\n",
       "      box-shadow: 0px 1px 2px rgba(60, 64, 67, 0.3), 0px 1px 3px 1px rgba(60, 64, 67, 0.15);\n",
       "      fill: #174EA6;\n",
       "    }\n",
       "\n",
       "    [theme=dark] .colab-df-convert {\n",
       "      background-color: #3B4455;\n",
       "      fill: #D2E3FC;\n",
       "    }\n",
       "\n",
       "    [theme=dark] .colab-df-convert:hover {\n",
       "      background-color: #434B5C;\n",
       "      box-shadow: 0px 1px 3px 1px rgba(0, 0, 0, 0.15);\n",
       "      filter: drop-shadow(0px 1px 2px rgba(0, 0, 0, 0.3));\n",
       "      fill: #FFFFFF;\n",
       "    }\n",
       "  </style>\n",
       "\n",
       "      <script>\n",
       "        const buttonEl =\n",
       "          document.querySelector('#df-eb2d003f-7c05-48e4-957e-a9e6cab51f92 button.colab-df-convert');\n",
       "        buttonEl.style.display =\n",
       "          google.colab.kernel.accessAllowed ? 'block' : 'none';\n",
       "\n",
       "        async function convertToInteractive(key) {\n",
       "          const element = document.querySelector('#df-eb2d003f-7c05-48e4-957e-a9e6cab51f92');\n",
       "          const dataTable =\n",
       "            await google.colab.kernel.invokeFunction('convertToInteractive',\n",
       "                                                     [key], {});\n",
       "          if (!dataTable) return;\n",
       "\n",
       "          const docLinkHtml = 'Like what you see? Visit the ' +\n",
       "            '<a target=\"_blank\" href=https://colab.research.google.com/notebooks/data_table.ipynb>data table notebook</a>'\n",
       "            + ' to learn more about interactive tables.';\n",
       "          element.innerHTML = '';\n",
       "          dataTable['output_type'] = 'display_data';\n",
       "          await google.colab.output.renderOutput(dataTable, element);\n",
       "          const docLink = document.createElement('div');\n",
       "          docLink.innerHTML = docLinkHtml;\n",
       "          element.appendChild(docLink);\n",
       "        }\n",
       "      </script>\n",
       "    </div>\n",
       "  </div>\n",
       "  "
      ],
      "text/plain": [
       "   RowNumber  CustomerId   Surname  ...  IsActiveMember EstimatedSalary Exited\n",
       "0          1    15634602  Hargrave  ...               1       101348.88      1\n",
       "1          2    15647311      Hill  ...               1       112542.58      0\n",
       "2          3    15619304      Onio  ...               0       113931.57      1\n",
       "3          4    15701354      Boni  ...               0        93826.63      0\n",
       "4          5    15737888  Mitchell  ...               1        79084.10      0\n",
       "5          6    15574012       Chu  ...               0       149756.71      1\n",
       "6          7    15592531  Bartlett  ...               1        10062.80      0\n",
       "7          8    15656148    Obinna  ...               0       119346.88      1\n",
       "8          9    15792365        He  ...               1        74940.50      0\n",
       "9         10    15592389        H?  ...               1        71725.73      0\n",
       "\n",
       "[10 rows x 14 columns]"
      ]
     },
     "execution_count": 66,
     "metadata": {},
     "output_type": "execute_result"
    }
   ],
   "source": [
    "ds.head(10)"
   ]
  },
  {
   "cell_type": "markdown",
   "metadata": {
    "id": "BsBwLHcmHUOg"
   },
   "source": [
    "#### Drop the columns which are unique for all users like IDs"
   ]
  },
  {
   "cell_type": "code",
   "execution_count": 67,
   "metadata": {
    "colab": {
     "base_uri": "https://localhost:8080/"
    },
    "id": "2phjlpsmHUOh",
    "outputId": "d4caaec3-e0b0-449e-8b87-c1279da41419"
   },
   "outputs": [
    {
     "data": {
      "text/plain": [
       "France     5014\n",
       "Germany    2509\n",
       "Spain      2477\n",
       "Name: Geography, dtype: int64"
      ]
     },
     "execution_count": 67,
     "metadata": {},
     "output_type": "execute_result"
    }
   ],
   "source": [
    "ds['Geography'].value_counts()"
   ]
  },
  {
   "cell_type": "code",
   "execution_count": 68,
   "metadata": {
    "id": "ivF2RMo6HUOr"
   },
   "outputs": [],
   "source": [
    "#RowNumber , CustomerId and Surname are unique hence dropping it\n",
    "ds = ds.drop(['RowNumber', 'CustomerId', 'Surname'], axis=1)"
   ]
  },
  {
   "cell_type": "code",
   "execution_count": 69,
   "metadata": {
    "colab": {
     "base_uri": "https://localhost:8080/"
    },
    "id": "owLb0T9WHUO0",
    "outputId": "d07418fe-da00-4b21-cca2-8f3294340986"
   },
   "outputs": [
    {
     "name": "stdout",
     "output_type": "stream",
     "text": [
      "<class 'pandas.core.frame.DataFrame'>\n",
      "RangeIndex: 10000 entries, 0 to 9999\n",
      "Data columns (total 11 columns):\n",
      " #   Column           Non-Null Count  Dtype  \n",
      "---  ------           --------------  -----  \n",
      " 0   CreditScore      10000 non-null  int64  \n",
      " 1   Geography        10000 non-null  object \n",
      " 2   Gender           10000 non-null  object \n",
      " 3   Age              10000 non-null  int64  \n",
      " 4   Tenure           10000 non-null  int64  \n",
      " 5   Balance          10000 non-null  float64\n",
      " 6   NumOfProducts    10000 non-null  int64  \n",
      " 7   HasCrCard        10000 non-null  int64  \n",
      " 8   IsActiveMember   10000 non-null  int64  \n",
      " 9   EstimatedSalary  10000 non-null  float64\n",
      " 10  Exited           10000 non-null  int64  \n",
      "dtypes: float64(2), int64(7), object(2)\n",
      "memory usage: 859.5+ KB\n"
     ]
    }
   ],
   "source": [
    "ds.info()"
   ]
  },
  {
   "cell_type": "markdown",
   "metadata": {
    "id": "ADD3sJsXQbPe"
   },
   "source": [
    "* As you can see, there are no null values in any of the column of this dataset"
   ]
  },
  {
   "cell_type": "markdown",
   "metadata": {
    "id": "W036jsgwRdVN"
   },
   "source": [
    "## Exploratory Data Analysis\n",
    "\n",
    "Here our main interest is to get an understanding as to how the given attributes relate to the 'Exit' status."
   ]
  },
  {
   "cell_type": "code",
   "execution_count": 70,
   "metadata": {
    "colab": {
     "base_uri": "https://localhost:8080/",
     "height": 487
    },
    "id": "1-HcZCCBRcCo",
    "outputId": "495ea4a2-2e02-41fc-d868-d0d65cc1b122"
   },
   "outputs": [
    {
     "data": {
      "image/png": "[encoded data removed]",
      "text/plain": [
       "<Figure size 720x576 with 1 Axes>"
      ]
     },
     "metadata": {},
     "output_type": "display_data"
    }
   ],
   "source": [
    "labels = 'Exited', 'Retained'\n",
    "sizes = [ds.Exited[ds['Exited']==1].count(), ds.Exited[ds['Exited']==0].count()]\n",
    "explode = (0, 0.1)\n",
    "fig1, ax1 = plt.subplots(figsize=(10, 8))\n",
    "ax1.pie(sizes, explode=explode, labels=labels, autopct='%1.1f%%',\n",
    "        shadow=True, startangle=90)\n",
    "ax1.axis('equal')\n",
    "plt.title(\"Proportion of customer churned and retained\", size = 20)\n",
    "plt.show()"
   ]
  },
  {
   "cell_type": "markdown",
   "metadata": {
    "id": "gftJLajKSNWp"
   },
   "source": [
    "* About 20% of the customers have churned. So the baseline model could be to predict that 20% of the customers will churn. Given 20% is a small number, we need to ensure that the chosen model does predict with great accuracy this 20% as it is of interest to the bank to identify and keep this bunch as opposed to accurately predicting the customers that are retained"
   ]
  },
  {
   "cell_type": "code",
   "execution_count": 71,
   "metadata": {
    "colab": {
     "base_uri": "https://localhost:8080/",
     "height": 542
    },
    "id": "O1SUWf6kSrwN",
    "outputId": "ba4cb98c-776b-41cd-e3e9-f22b6069d31d"
   },
   "outputs": [
    {
     "data": {
      "text/plain": [
       "<matplotlib.axes._subplots.AxesSubplot at 0x7fc957b47650>"
      ]
     },
     "execution_count": 71,
     "metadata": {},
     "output_type": "execute_result"
    },
    {
     "data": {
      "image/png": "[encoded data removed]",
      "text/plain": [
       "<Figure size 1440x864 with 4 Axes>"
      ]
     },
     "metadata": {
      "needs_background": "light"
     },
     "output_type": "display_data"
    }
   ],
   "source": [
    "# We first review the 'Status' relation with categorical variables\n",
    "fig, axarr = plt.subplots(2, 2, figsize=(20, 12))\n",
    "sns.countplot(x='Geography', hue = 'Exited',data = ds, ax=axarr[0][0])\n",
    "sns.countplot(x='Gender', hue = 'Exited',data = ds, ax=axarr[0][1])\n",
    "sns.countplot(x='HasCrCard', hue = 'Exited',data = ds, ax=axarr[1][0])\n",
    "sns.countplot(x='IsActiveMember', hue = 'Exited',data = ds, ax=axarr[1][1])"
   ]
  },
  {
   "cell_type": "markdown",
   "metadata": {
    "id": "etZHtIeBTTHj"
   },
   "source": [
    "We note the following:\n",
    "\n",
    "*  Majority of the data is from persons from France. However, the proportion of churned customers is with inversely related to the population of customers alluding to the bank possibly having a problem (maybe not enough customer service resources allocated) in the areas where it has fewer clients.\n",
    "\n",
    "* The proportion of female customers churning is also greater than that of male customers\n",
    "Interestingly, majority of the customers that churned are those with credit cards. Given that majority of the customers have credit cards could prove this to be just a coincidence.\n",
    "\n",
    "\n",
    "* Unsurprisingly the inactive members have a greater churn. \n",
    "Worryingly is that the overall proportion of inactive mebers is quite high suggesting that the bank may need a program implemented to turn this group to active customers as this will definately have a positive impact on the customer churn"
   ]
  },
  {
   "cell_type": "code",
   "execution_count": 72,
   "metadata": {
    "colab": {
     "base_uri": "https://localhost:8080/",
     "height": 545
    },
    "id": "vfo1DI8YTkRq",
    "outputId": "e2ccc5bd-4d77-462b-e754-bfa3c9adb131"
   },
   "outputs": [
    {
     "data": {
      "text/plain": [
       "<matplotlib.axes._subplots.AxesSubplot at 0x7fc957586210>"
      ]
     },
     "execution_count": 72,
     "metadata": {},
     "output_type": "execute_result"
    },
    {
     "data": {
      "image/png": "[encoded data removed]",
      "text/plain": [
       "<Figure size 1440x864 with 6 Axes>"
      ]
     },
     "metadata": {
      "needs_background": "light"
     },
     "output_type": "display_data"
    }
   ],
   "source": [
    "# Relations based on the continuous data attributes\n",
    "fig, axarr = plt.subplots(3, 2, figsize=(20, 12))\n",
    "sns.boxplot(y='CreditScore',x = 'Exited', hue = 'Exited',data = ds, ax=axarr[0][0])\n",
    "sns.boxplot(y='Age',x = 'Exited', hue = 'Exited',data = ds , ax=axarr[0][1])\n",
    "sns.boxplot(y='Tenure',x = 'Exited', hue = 'Exited',data = ds, ax=axarr[1][0])\n",
    "sns.boxplot(y='Balance',x = 'Exited', hue = 'Exited',data = ds, ax=axarr[1][1])\n",
    "sns.boxplot(y='NumOfProducts',x = 'Exited', hue = 'Exited',data = ds, ax=axarr[2][0])\n",
    "sns.boxplot(y='EstimatedSalary',x = 'Exited', hue = 'Exited',data = ds, ax=axarr[2][1])"
   ]
  },
  {
   "cell_type": "markdown",
   "metadata": {
    "id": "_ABN_4T9Twwu"
   },
   "source": [
    "We note the following:\n",
    "\n",
    "* There is no significant difference in the credit score distribution between retained and churned customers.\n",
    "The older customers are churning at more than the younger ones alluding to a difference in service preference in the age categories. The bank may need to review their target market or review the strategy for retention between the different age groups\n",
    "\n",
    "* With regard to the tenure, the clients on either extreme end (spent little time with the bank or a lot of time with the bank) are more likely to churn compared to those that are of average tenure.\n",
    "Worryingly, the bank is losing customers with significant bank balances which is likely to hit their available capital for lending.\n",
    "\n",
    "* Neither the product nor the salary has a significant effect on the likelihood to churn"
   ]
  },
  {
   "cell_type": "markdown",
   "metadata": {
    "id": "DoE1cIS7aWrf"
   },
   "source": [
    "**Insights :** \n",
    "* No correlation observed between the  columns\n",
    "\n",
    "* Exited Customers seem to be distributed across all Credit Scores\n",
    "\n",
    "* Lot of Customers customers aged between 40-60 seem to have exited the bank \n",
    "\n",
    "* Lot of  customers with 3-4 products seem to have exited the bank\n",
    "\n",
    "* Customers with or without credit cards seem to have exited the bank\n",
    "\n",
    "* Lot of  customers who are non active members seem to have exited the bank\n",
    "\n",
    "* Customers across all Estimated Salaries seem to have exited the bank uniformly"
   ]
  },
  {
   "cell_type": "code",
   "execution_count": 73,
   "metadata": {
    "colab": {
     "base_uri": "https://localhost:8080/",
     "height": 673
    },
    "id": "rr8IFi8_bFQ9",
    "outputId": "dbb89098-0d8f-44f6-b128-493168d216ab"
   },
   "outputs": [
    {
     "data": {
      "text/plain": [
       "<matplotlib.axes._subplots.AxesSubplot at 0x7fc95adc2f50>"
      ]
     },
     "execution_count": 73,
     "metadata": {},
     "output_type": "execute_result"
    },
    {
     "data": {
      "image/png": "[encoded data removed]",
      "text/plain": [
       "<Figure size 1080x720 with 2 Axes>"
      ]
     },
     "metadata": {
      "needs_background": "light"
     },
     "output_type": "display_data"
    }
   ],
   "source": [
    "plt.figure(figsize = (15, 10))\n",
    "sns.heatmap(ds.corr(), annot = True, fmt = '0.2f')"
   ]
  },
  {
   "cell_type": "markdown",
   "metadata": {
    "id": "327PJgSCbIjr"
   },
   "source": [
    "**Insights :** None of the columns are strongly corelated with each other. There is no multicollinearity."
   ]
  },
  {
   "cell_type": "markdown",
   "metadata": {
    "id": "CUXPaUwZHUO8"
   },
   "source": [
    "#### Distinguish the feature and target set"
   ]
  },
  {
   "cell_type": "code",
   "execution_count": 74,
   "metadata": {
    "id": "VTb3JwlaHUO-"
   },
   "outputs": [],
   "source": [
    "X = ds.iloc[:,0:10].values # Credit Score through Estimated Salary\n",
    "y = ds.iloc[:,10].values # Exited"
   ]
  },
  {
   "cell_type": "markdown",
   "metadata": {
    "id": "1nEEjgwleiMv"
   },
   "source": [
    "## Categorical Encoding"
   ]
  },
  {
   "cell_type": "code",
   "execution_count": 76,
   "metadata": {
    "colab": {
     "base_uri": "https://localhost:8080/"
    },
    "id": "wWrBLaE_HUPJ",
    "outputId": "967c4fd9-5c64-4018-ec07-63e465430783"
   },
   "outputs": [
    {
     "name": "stdout",
     "output_type": "stream",
     "text": [
      "['Female' 'Female' 'Female' 'Female' 'Female' 'Male'] ... will now become: \n",
      "[0 0 0 0 0 1]\n"
     ]
    }
   ],
   "source": [
    "# We will do the same thing for gender. this will be binary in this dataset\n",
    "print(X[:6,2], '... will now become: ')\n",
    "\n",
    "label_X_gender_encoder = LabelEncoder()\n",
    "X[:,2] = label_X_gender_encoder.fit_transform(X[:,2])\n",
    "print(X[:6,2])"
   ]
  },
  {
   "cell_type": "code",
   "execution_count": 77,
   "metadata": {
    "id": "9vo-BBy5HUPP"
   },
   "outputs": [],
   "source": [
    "\n",
    "\n",
    "\n",
    "# Converting the string features into their own dimensions. Gender doesn't matter here because its binary\n",
    "#countryhotencoder = OneHotEncoder(categories = [1]) # 1 is the country column\n",
    "countryhotencoder = ColumnTransformer([(\"countries\", OneHotEncoder(), [1])], remainder=\"passthrough\")\n",
    "X = countryhotencoder.fit_transform(X)\n",
    "#X = countryhotencoder.fit_transform(X).toarray()"
   ]
  },
  {
   "cell_type": "code",
   "execution_count": 78,
   "metadata": {
    "colab": {
     "base_uri": "https://localhost:8080/"
    },
    "id": "RwYnvT59HUPT",
    "outputId": "5cd03c48-6b03-4ea8-e025-a1aa70ca9c4b"
   },
   "outputs": [
    {
     "data": {
      "text/plain": [
       "(10000, 12)"
      ]
     },
     "execution_count": 78,
     "metadata": {},
     "output_type": "execute_result"
    }
   ],
   "source": [
    "#Printing the shape of the data \n",
    "X.shape"
   ]
  },
  {
   "cell_type": "code",
   "execution_count": 79,
   "metadata": {
    "colab": {
     "base_uri": "https://localhost:8080/"
    },
    "id": "KDvpBBbDHUPX",
    "outputId": "ccc1fc9c-fa78-4a3a-e05e-45223b62dc2c"
   },
   "outputs": [
    {
     "data": {
      "text/plain": [
       "array([[1.0, 0.0, 0.0, ..., 1, 1, 101348.88],\n",
       "       [0.0, 0.0, 1.0, ..., 0, 1, 112542.58],\n",
       "       [1.0, 0.0, 0.0, ..., 1, 0, 113931.57],\n",
       "       ...,\n",
       "       [1.0, 0.0, 0.0, ..., 0, 1, 42085.58],\n",
       "       [0.0, 1.0, 0.0, ..., 1, 0, 92888.52],\n",
       "       [1.0, 0.0, 0.0, ..., 1, 0, 38190.78]], dtype=object)"
      ]
     },
     "execution_count": 79,
     "metadata": {},
     "output_type": "execute_result"
    }
   ],
   "source": [
    "#Printing the data\n",
    "X "
   ]
  },
  {
   "cell_type": "code",
   "execution_count": 80,
   "metadata": {
    "id": "td8t2NpPHUPe"
   },
   "outputs": [],
   "source": [
    "\n",
    "# A 0 on two countries means that the country has to be the one variable which wasn't included \n",
    "# This will save us from the problem of using too many dimensions\n",
    "X = X[:,1:] # Got rid of Spain as a dimension."
   ]
  },
  {
   "cell_type": "markdown",
   "metadata": {
    "id": "wyFlF8iBHUPk"
   },
   "source": [
    "#### Divide the data set into Train and test sets"
   ]
  },
  {
   "cell_type": "code",
   "execution_count": 81,
   "metadata": {
    "id": "0YvyE1kXHUPl"
   },
   "outputs": [],
   "source": [
    "X_train, X_test, y_train, y_test = train_test_split(X,y, test_size = 0.2, random_state = 42)"
   ]
  },
  {
   "cell_type": "markdown",
   "metadata": {
    "id": "qlSyq5fNHUPp"
   },
   "source": [
    "#### Normalize the train and test data"
   ]
  },
  {
   "cell_type": "code",
   "execution_count": 82,
   "metadata": {
    "id": "SEcfWvfrHUPr"
   },
   "outputs": [],
   "source": [
    "from sklearn.preprocessing import StandardScaler\n",
    "sc=StandardScaler()\n",
    "X_train = sc.fit_transform(X_train)\n",
    "X_test = sc.transform(X_test)"
   ]
  },
  {
   "cell_type": "code",
   "execution_count": 91,
   "metadata": {
    "id": "Sm9XiMdxHUQw"
   },
   "outputs": [],
   "source": [
    "\n",
    "def make_confusion_matrix(cf,\n",
    "                          group_names=None,\n",
    "                          categories='auto',\n",
    "                          count=True,\n",
    "                          percent=True,\n",
    "                          cbar=True,\n",
    "                          xyticks=True,\n",
    "                          xyplotlabels=True,\n",
    "                          sum_stats=True,\n",
    "                          figsize=None,\n",
    "                          cmap='Blues',\n",
    "                          title=None):\n",
    "    '''\n",
    "    This function will make a pretty plot of an sklearn Confusion Matrix cm using a Seaborn heatmap visualization.\n",
    "    Arguments\n",
    "    '''\n",
    "\n",
    "\n",
    "    # CODE TO GENERATE TEXT INSIDE EACH SQUARE\n",
    "    blanks = ['' for i in range(cf.size)]\n",
    "\n",
    "    if group_names and len(group_names)==cf.size:\n",
    "        group_labels = [\"{}\\n\".format(value) for value in group_names]\n",
    "    else:\n",
    "        group_labels = blanks\n",
    "\n",
    "    if count:\n",
    "        group_counts = [\"{0:0.0f}\\n\".format(value) for value in cf.flatten()]\n",
    "    else:\n",
    "        group_counts = blanks\n",
    "\n",
    "    if percent:\n",
    "        group_percentages = [\"{0:.2%}\".format(value) for value in cf.flatten()/np.sum(cf)]\n",
    "    else:\n",
    "        group_percentages = blanks\n",
    "\n",
    "    box_labels = [f\"{v1}{v2}{v3}\".strip() for v1, v2, v3 in zip(group_labels,group_counts,group_percentages)]\n",
    "    box_labels = np.asarray(box_labels).reshape(cf.shape[0],cf.shape[1])\n",
    "\n",
    "\n",
    "    # CODE TO GENERATE SUMMARY STATISTICS & TEXT FOR SUMMARY STATS\n",
    "    if sum_stats:\n",
    "        #Accuracy is sum of diagonal divided by total observations\n",
    "        accuracy  = np.trace(cf) / float(np.sum(cf))\n",
    "\n",
    "        #if it is a binary confusion matrix, show some more stats\n",
    "        if len(cf)==2:\n",
    "            #Metrics for Binary Confusion Matrices\n",
    "            precision = cf[1,1] / sum(cf[:,1])\n",
    "            recall    = cf[1,1] / sum(cf[1,:])\n",
    "            f1_score  = 2*precision*recall / (precision + recall)\n",
    "            stats_text = \"\\n\\nAccuracy={:0.3f}\\nPrecision={:0.3f}\\nRecall={:0.3f}\\nF1 Score={:0.3f}\".format(\n",
    "                accuracy,precision,recall,f1_score)\n",
    "        else:\n",
    "            stats_text = \"\\n\\nAccuracy={:0.3f}\".format(accuracy)\n",
    "    else:\n",
    "        stats_text = \"\"\n",
    "\n",
    "\n",
    "    # SET FIGURE PARAMETERS ACCORDING TO OTHER ARGUMENTS\n",
    "    if figsize==None:\n",
    "        #Get default figure size if not set\n",
    "        figsize = plt.rcParams.get('figure.figsize')\n",
    "\n",
    "    if xyticks==False:\n",
    "        #Do not show categories if xyticks is False\n",
    "        categories=False\n",
    "\n",
    "\n",
    "    # MAKE THE HEATMAP VISUALIZATION\n",
    "    plt.figure(figsize=figsize)\n",
    "    sns.heatmap(cf,annot=box_labels,fmt=\"\",cmap=cmap,cbar=cbar,xticklabels=categories,yticklabels=categories)\n",
    "\n",
    "    if xyplotlabels:\n",
    "        plt.ylabel('True label')\n",
    "        plt.xlabel('Predicted label' + stats_text)\n",
    "    else:\n",
    "        plt.xlabel(stats_text)\n",
    "    \n",
    "    if title:\n",
    "        plt.title(title)"
   ]
  },
  {
   "cell_type": "markdown",
   "metadata": {
    "id": "FayG94iciXVS"
   },
   "source": [
    "## Model evaluation criterion\n",
    "\n",
    "### Model can make wrong predictions as:\n",
    "* Predicting a customer is exiting  and the customer  is not exiting\n",
    "* Predicting a customer is not exiting and  customer is  exiting\n",
    "\n",
    "### Which case is more important? \n",
    "* Predicting that customer is not exiting but he/she is exiting. It might cause loss to the banks because due to wrong identification bank will not be able to take any initiative for those sensitive customers. \n",
    "\n",
    "### How to reduce this loss i.e need to reduce False Negative?\n",
    "* Bank would want `Recall` to be maximized, greater the Recall higher the chances of minimizing false Negative. Hence, the focus should be on increasing Recall or minimizing the false Negative or in other words identifying the True Positive(i.e. Class 1) so that the bank can retain their customers."
   ]
  },
  {
   "cell_type": "markdown",
   "metadata": {
    "id": "59cwGruOS0tU"
   },
   "source": [
    "As you can see, the above model has good accuracy and precision but have poor recall. There can be two reasons as follows:\n",
    "\n",
    "1) **Imbalanced dataset:** As you have seen in the EDA, This dataset is imbalanced and it contains more examples belong to non_exited class (0).\n",
    "\n",
    "2) **Inappropriate loss function:** We're using MSE loss function which is not appropriate for the classification problem because it tries to minimize the mean ( Central value ) and here the dataset is imbalanced and mean is more biased towards 0th class.\n",
    "\n",
    "3) **Decision Threshold** As you see this dataset is imbalance. Therefore, we can use ROC-AUC to find the optimal threshold and use the same for prediction.\n",
    "\n",
    "Lets try to  change the loss function, tune the decision threshold, apply SMOTE to balance the dataset and   configure some other hyperparameters accordingly "
   ]
  },
  {
   "cell_type": "markdown",
   "metadata": {
    "id": "VVpeMzjNa6x4"
   },
   "source": [
    "**Changing the loss function to binary_crossentropy which is used for binary classification**"
   ]
  },
  {
   "cell_type": "code",
   "execution_count": 93,
   "metadata": {
    "id": "mn41MYT30CRo"
   },
   "outputs": [],
   "source": [
    "import keras\n",
    "keras.backend.clear_session()"
   ]
  },
  {
   "cell_type": "code",
   "execution_count": 94,
   "metadata": {
    "id": "36b7peUubI1q"
   },
   "outputs": [],
   "source": [
    "def create_model():\n",
    "      #Initializing the neural network\n",
    "      model = Sequential()\n",
    "      #Adding the hidden and output layers\n",
    "      model.add(Dense(64,activation='relu',input_dim = X_train.shape[1]))\n",
    "      model.add(Dropout(0.2))\n",
    "      model.add(Dense(32,activation='relu'))\n",
    "      model.add(Dropout(0.2))\n",
    "      model.add(Dense(32,activation='relu'))\n",
    "      model.add(Dropout(0.2))\n",
    "      model.add(Dense(32,activation='relu'))\n",
    "      model.add(Dropout(0.2))\n",
    "      model.add(Dense(1, activation = 'sigmoid'))\n",
    "      #Compiling the ANN with RMSprop optimizer and binary cross entropy loss function \n",
    "      optimizer = tf.keras.optimizers.Adam(0.001)\n",
    "      model.compile(loss='binary_crossentropy',optimizer=optimizer,metrics=['accuracy'])\n",
    "      return model"
   ]
  },
  {
   "cell_type": "code",
   "execution_count": 95,
   "metadata": {
    "colab": {
     "base_uri": "https://localhost:8080/"
    },
    "id": "xVs_I0EubWk-",
    "outputId": "3f4936a2-db19-4ec3-b41a-2293dee6852a"
   },
   "outputs": [
    {
     "name": "stdout",
     "output_type": "stream",
     "text": [
      "Model: \"sequential\"\n",
      "_________________________________________________________________\n",
      " Layer (type)                Output Shape              Param #   \n",
      "=================================================================\n",
      " dense (Dense)               (None, 64)                768       \n",
      "                                                                 \n",
      " dropout (Dropout)           (None, 64)                0         \n",
      "                                                                 \n",
      " dense_1 (Dense)             (None, 32)                2080      \n",
      "                                                                 \n",
      " dropout_1 (Dropout)         (None, 32)                0         \n",
      "                                                                 \n",
      " dense_2 (Dense)             (None, 32)                1056      \n",
      "                                                                 \n",
      " dropout_2 (Dropout)         (None, 32)                0         \n",
      "                                                                 \n",
      " dense_3 (Dense)             (None, 32)                1056      \n",
      "                                                                 \n",
      " dropout_3 (Dropout)         (None, 32)                0         \n",
      "                                                                 \n",
      " dense_4 (Dense)             (None, 1)                 33        \n",
      "                                                                 \n",
      "=================================================================\n",
      "Total params: 4,993\n",
      "Trainable params: 4,993\n",
      "Non-trainable params: 0\n",
      "_________________________________________________________________\n"
     ]
    }
   ],
   "source": [
    "model=create_model()\n",
    "model.summary()"
   ]
  },
  {
   "cell_type": "code",
   "execution_count": 96,
   "metadata": {
    "colab": {
     "base_uri": "https://localhost:8080/"
    },
    "id": "8j4im_XibZs2",
    "outputId": "2c0f6949-4397-47e2-eed4-a0790c537977"
   },
   "outputs": [
    {
     "name": "stdout",
     "output_type": "stream",
     "text": [
      "Epoch 1/100\n",
      "200/200 [==============================] - 1s 4ms/step - loss: 0.5037 - accuracy: 0.7816 - val_loss: 0.4229 - val_accuracy: 0.8213\n",
      "Epoch 2/100\n",
      "200/200 [==============================] - 1s 3ms/step - loss: 0.4524 - accuracy: 0.8047 - val_loss: 0.4059 - val_accuracy: 0.8244\n",
      "Epoch 3/100\n",
      "200/200 [==============================] - 1s 3ms/step - loss: 0.4316 - accuracy: 0.8159 - val_loss: 0.3816 - val_accuracy: 0.8400\n",
      "Epoch 4/100\n",
      "200/200 [==============================] - 1s 3ms/step - loss: 0.4052 - accuracy: 0.8286 - val_loss: 0.3649 - val_accuracy: 0.8456\n",
      "Epoch 5/100\n",
      "200/200 [==============================] - 1s 3ms/step - loss: 0.3857 - accuracy: 0.8383 - val_loss: 0.3602 - val_accuracy: 0.8512\n",
      "Epoch 6/100\n",
      "200/200 [==============================] - 1s 3ms/step - loss: 0.3834 - accuracy: 0.8420 - val_loss: 0.3527 - val_accuracy: 0.8525\n",
      "Epoch 7/100\n",
      "200/200 [==============================] - 1s 3ms/step - loss: 0.3768 - accuracy: 0.8436 - val_loss: 0.3504 - val_accuracy: 0.8600\n",
      "Epoch 8/100\n",
      "200/200 [==============================] - 1s 3ms/step - loss: 0.3744 - accuracy: 0.8484 - val_loss: 0.3488 - val_accuracy: 0.8569\n",
      "Epoch 9/100\n",
      "200/200 [==============================] - 1s 3ms/step - loss: 0.3728 - accuracy: 0.8428 - val_loss: 0.3481 - val_accuracy: 0.8556\n",
      "Epoch 10/100\n",
      "200/200 [==============================] - 1s 3ms/step - loss: 0.3644 - accuracy: 0.8503 - val_loss: 0.3452 - val_accuracy: 0.8569\n",
      "Epoch 11/100\n",
      "200/200 [==============================] - 1s 3ms/step - loss: 0.3590 - accuracy: 0.8537 - val_loss: 0.3437 - val_accuracy: 0.8594\n",
      "Epoch 12/100\n",
      "200/200 [==============================] - 1s 3ms/step - loss: 0.3605 - accuracy: 0.8512 - val_loss: 0.3465 - val_accuracy: 0.8594\n",
      "Epoch 13/100\n",
      "200/200 [==============================] - 1s 3ms/step - loss: 0.3523 - accuracy: 0.8567 - val_loss: 0.3434 - val_accuracy: 0.8569\n",
      "Epoch 14/100\n",
      "200/200 [==============================] - 1s 3ms/step - loss: 0.3586 - accuracy: 0.8556 - val_loss: 0.3392 - val_accuracy: 0.8631\n",
      "Epoch 15/100\n",
      "200/200 [==============================] - 1s 3ms/step - loss: 0.3461 - accuracy: 0.8587 - val_loss: 0.3409 - val_accuracy: 0.8600\n",
      "Epoch 16/100\n",
      "200/200 [==============================] - 1s 3ms/step - loss: 0.3550 - accuracy: 0.8547 - val_loss: 0.3458 - val_accuracy: 0.8612\n",
      "Epoch 17/100\n",
      "200/200 [==============================] - 1s 3ms/step - loss: 0.3465 - accuracy: 0.8608 - val_loss: 0.3413 - val_accuracy: 0.8587\n",
      "Epoch 18/100\n",
      "200/200 [==============================] - 1s 3ms/step - loss: 0.3476 - accuracy: 0.8573 - val_loss: 0.3426 - val_accuracy: 0.8581\n",
      "Epoch 19/100\n",
      "200/200 [==============================] - 1s 3ms/step - loss: 0.3496 - accuracy: 0.8592 - val_loss: 0.3419 - val_accuracy: 0.8587\n",
      "Epoch 20/100\n",
      "200/200 [==============================] - 1s 3ms/step - loss: 0.3484 - accuracy: 0.8605 - val_loss: 0.3440 - val_accuracy: 0.8569\n",
      "Epoch 21/100\n",
      "200/200 [==============================] - 1s 3ms/step - loss: 0.3438 - accuracy: 0.8591 - val_loss: 0.3416 - val_accuracy: 0.8587\n",
      "Epoch 22/100\n",
      "200/200 [==============================] - 1s 3ms/step - loss: 0.3394 - accuracy: 0.8627 - val_loss: 0.3429 - val_accuracy: 0.8587\n",
      "Epoch 23/100\n",
      "200/200 [==============================] - 1s 3ms/step - loss: 0.3429 - accuracy: 0.8592 - val_loss: 0.3396 - val_accuracy: 0.8612\n",
      "Epoch 24/100\n",
      "200/200 [==============================] - 1s 3ms/step - loss: 0.3359 - accuracy: 0.8620 - val_loss: 0.3406 - val_accuracy: 0.8575\n",
      "Epoch 25/100\n",
      "200/200 [==============================] - 1s 3ms/step - loss: 0.3408 - accuracy: 0.8622 - val_loss: 0.3415 - val_accuracy: 0.8581\n",
      "Epoch 26/100\n",
      "200/200 [==============================] - 1s 3ms/step - loss: 0.3424 - accuracy: 0.8614 - val_loss: 0.3401 - val_accuracy: 0.8581\n",
      "Epoch 27/100\n",
      "200/200 [==============================] - 1s 3ms/step - loss: 0.3374 - accuracy: 0.8608 - val_loss: 0.3422 - val_accuracy: 0.8581\n",
      "Epoch 28/100\n",
      "200/200 [==============================] - 1s 3ms/step - loss: 0.3343 - accuracy: 0.8655 - val_loss: 0.3451 - val_accuracy: 0.8556\n",
      "Epoch 29/100\n",
      "200/200 [==============================] - 1s 3ms/step - loss: 0.3357 - accuracy: 0.8641 - val_loss: 0.3410 - val_accuracy: 0.8562\n",
      "Epoch 30/100\n",
      "200/200 [==============================] - 1s 3ms/step - loss: 0.3347 - accuracy: 0.8669 - val_loss: 0.3447 - val_accuracy: 0.8556\n",
      "Epoch 31/100\n",
      "200/200 [==============================] - 1s 3ms/step - loss: 0.3352 - accuracy: 0.8633 - val_loss: 0.3424 - val_accuracy: 0.8544\n",
      "Epoch 32/100\n",
      "200/200 [==============================] - 1s 3ms/step - loss: 0.3348 - accuracy: 0.8639 - val_loss: 0.3399 - val_accuracy: 0.8562\n",
      "Epoch 33/100\n",
      "200/200 [==============================] - 1s 3ms/step - loss: 0.3321 - accuracy: 0.8647 - val_loss: 0.3414 - val_accuracy: 0.8606\n",
      "Epoch 34/100\n",
      "200/200 [==============================] - 1s 3ms/step - loss: 0.3304 - accuracy: 0.8673 - val_loss: 0.3401 - val_accuracy: 0.8581\n",
      "Epoch 35/100\n",
      "200/200 [==============================] - 1s 3ms/step - loss: 0.3323 - accuracy: 0.8642 - val_loss: 0.3412 - val_accuracy: 0.8587\n",
      "Epoch 36/100\n",
      "200/200 [==============================] - 1s 3ms/step - loss: 0.3300 - accuracy: 0.8653 - val_loss: 0.3422 - val_accuracy: 0.8587\n",
      "Epoch 37/100\n",
      "200/200 [==============================] - 1s 3ms/step - loss: 0.3268 - accuracy: 0.8673 - val_loss: 0.3438 - val_accuracy: 0.8581\n",
      "Epoch 38/100\n",
      "200/200 [==============================] - 1s 3ms/step - loss: 0.3260 - accuracy: 0.8661 - val_loss: 0.3463 - val_accuracy: 0.8619\n",
      "Epoch 39/100\n",
      "200/200 [==============================] - 1s 3ms/step - loss: 0.3322 - accuracy: 0.8661 - val_loss: 0.3418 - val_accuracy: 0.8625\n",
      "Epoch 40/100\n",
      "200/200 [==============================] - 1s 3ms/step - loss: 0.3302 - accuracy: 0.8639 - val_loss: 0.3427 - val_accuracy: 0.8569\n",
      "Epoch 41/100\n",
      "200/200 [==============================] - 1s 3ms/step - loss: 0.3283 - accuracy: 0.8686 - val_loss: 0.3439 - val_accuracy: 0.8600\n",
      "Epoch 42/100\n",
      "200/200 [==============================] - 1s 3ms/step - loss: 0.3258 - accuracy: 0.8670 - val_loss: 0.3452 - val_accuracy: 0.8587\n",
      "Epoch 43/100\n",
      "200/200 [==============================] - 1s 3ms/step - loss: 0.3261 - accuracy: 0.8670 - val_loss: 0.3429 - val_accuracy: 0.8606\n",
      "Epoch 44/100\n",
      "200/200 [==============================] - 1s 3ms/step - loss: 0.3263 - accuracy: 0.8670 - val_loss: 0.3411 - val_accuracy: 0.8619\n",
      "Epoch 45/100\n",
      "200/200 [==============================] - 1s 3ms/step - loss: 0.3245 - accuracy: 0.8648 - val_loss: 0.3447 - val_accuracy: 0.8637\n",
      "Epoch 46/100\n",
      "200/200 [==============================] - 1s 3ms/step - loss: 0.3283 - accuracy: 0.8672 - val_loss: 0.3441 - val_accuracy: 0.8594\n",
      "Epoch 47/100\n",
      "200/200 [==============================] - 1s 3ms/step - loss: 0.3238 - accuracy: 0.8692 - val_loss: 0.3429 - val_accuracy: 0.8612\n",
      "Epoch 48/100\n",
      "200/200 [==============================] - 1s 3ms/step - loss: 0.3234 - accuracy: 0.8700 - val_loss: 0.3436 - val_accuracy: 0.8606\n",
      "Epoch 49/100\n",
      "200/200 [==============================] - 1s 3ms/step - loss: 0.3240 - accuracy: 0.8659 - val_loss: 0.3427 - val_accuracy: 0.8619\n",
      "Epoch 50/100\n",
      "200/200 [==============================] - 1s 3ms/step - loss: 0.3242 - accuracy: 0.8700 - val_loss: 0.3403 - val_accuracy: 0.8625\n",
      "Epoch 51/100\n",
      "200/200 [==============================] - 1s 3ms/step - loss: 0.3210 - accuracy: 0.8658 - val_loss: 0.3436 - val_accuracy: 0.8606\n",
      "Epoch 52/100\n",
      "200/200 [==============================] - 1s 3ms/step - loss: 0.3185 - accuracy: 0.8716 - val_loss: 0.3468 - val_accuracy: 0.8575\n",
      "Epoch 53/100\n",
      "200/200 [==============================] - 1s 3ms/step - loss: 0.3228 - accuracy: 0.8670 - val_loss: 0.3460 - val_accuracy: 0.8544\n",
      "Epoch 54/100\n",
      "200/200 [==============================] - 1s 3ms/step - loss: 0.3210 - accuracy: 0.8697 - val_loss: 0.3452 - val_accuracy: 0.8569\n",
      "Epoch 55/100\n",
      "200/200 [==============================] - 1s 3ms/step - loss: 0.3170 - accuracy: 0.8684 - val_loss: 0.3471 - val_accuracy: 0.8544\n",
      "Epoch 56/100\n",
      "200/200 [==============================] - 1s 3ms/step - loss: 0.3148 - accuracy: 0.8712 - val_loss: 0.3484 - val_accuracy: 0.8606\n",
      "Epoch 57/100\n",
      "200/200 [==============================] - 1s 3ms/step - loss: 0.3141 - accuracy: 0.8736 - val_loss: 0.3484 - val_accuracy: 0.8600\n",
      "Epoch 58/100\n",
      "200/200 [==============================] - 1s 3ms/step - loss: 0.3125 - accuracy: 0.8734 - val_loss: 0.3507 - val_accuracy: 0.8594\n",
      "Epoch 59/100\n",
      "200/200 [==============================] - 1s 3ms/step - loss: 0.3191 - accuracy: 0.8702 - val_loss: 0.3460 - val_accuracy: 0.8637\n",
      "Epoch 60/100\n",
      "200/200 [==============================] - 1s 3ms/step - loss: 0.3098 - accuracy: 0.8737 - val_loss: 0.3480 - val_accuracy: 0.8581\n",
      "Epoch 61/100\n",
      "200/200 [==============================] - 1s 3ms/step - loss: 0.3143 - accuracy: 0.8728 - val_loss: 0.3463 - val_accuracy: 0.8569\n",
      "Epoch 62/100\n",
      "200/200 [==============================] - 1s 3ms/step - loss: 0.3205 - accuracy: 0.8667 - val_loss: 0.3471 - val_accuracy: 0.8606\n",
      "Epoch 63/100\n",
      "200/200 [==============================] - 1s 3ms/step - loss: 0.3115 - accuracy: 0.8728 - val_loss: 0.3445 - val_accuracy: 0.8619\n",
      "Epoch 64/100\n",
      "200/200 [==============================] - 1s 3ms/step - loss: 0.3138 - accuracy: 0.8745 - val_loss: 0.3450 - val_accuracy: 0.8587\n",
      "Epoch 65/100\n",
      "200/200 [==============================] - 1s 3ms/step - loss: 0.3145 - accuracy: 0.8692 - val_loss: 0.3476 - val_accuracy: 0.8594\n",
      "Epoch 66/100\n",
      "200/200 [==============================] - 1s 3ms/step - loss: 0.3145 - accuracy: 0.8722 - val_loss: 0.3467 - val_accuracy: 0.8612\n",
      "Epoch 67/100\n",
      "200/200 [==============================] - 1s 3ms/step - loss: 0.3132 - accuracy: 0.8736 - val_loss: 0.3461 - val_accuracy: 0.8637\n",
      "Epoch 68/100\n",
      "200/200 [==============================] - 1s 3ms/step - loss: 0.3091 - accuracy: 0.8711 - val_loss: 0.3484 - val_accuracy: 0.8556\n",
      "Epoch 69/100\n",
      "200/200 [==============================] - 1s 3ms/step - loss: 0.3134 - accuracy: 0.8725 - val_loss: 0.3458 - val_accuracy: 0.8625\n",
      "Epoch 70/100\n",
      "200/200 [==============================] - 1s 3ms/step - loss: 0.3103 - accuracy: 0.8734 - val_loss: 0.3469 - val_accuracy: 0.8656\n",
      "Epoch 71/100\n",
      "200/200 [==============================] - 1s 3ms/step - loss: 0.3075 - accuracy: 0.8725 - val_loss: 0.3539 - val_accuracy: 0.8625\n",
      "Epoch 72/100\n",
      "200/200 [==============================] - 1s 3ms/step - loss: 0.3106 - accuracy: 0.8714 - val_loss: 0.3509 - val_accuracy: 0.8644\n",
      "Epoch 73/100\n",
      "200/200 [==============================] - 1s 3ms/step - loss: 0.3133 - accuracy: 0.8686 - val_loss: 0.3478 - val_accuracy: 0.8675\n",
      "Epoch 74/100\n",
      "200/200 [==============================] - 1s 3ms/step - loss: 0.3136 - accuracy: 0.8691 - val_loss: 0.3471 - val_accuracy: 0.8669\n",
      "Epoch 75/100\n",
      "200/200 [==============================] - 1s 3ms/step - loss: 0.3075 - accuracy: 0.8739 - val_loss: 0.3459 - val_accuracy: 0.8650\n",
      "Epoch 76/100\n",
      "200/200 [==============================] - 1s 3ms/step - loss: 0.3070 - accuracy: 0.8748 - val_loss: 0.3493 - val_accuracy: 0.8662\n",
      "Epoch 77/100\n",
      "200/200 [==============================] - 1s 3ms/step - loss: 0.3108 - accuracy: 0.8744 - val_loss: 0.3520 - val_accuracy: 0.8587\n",
      "Epoch 78/100\n",
      "200/200 [==============================] - 1s 3ms/step - loss: 0.3046 - accuracy: 0.8788 - val_loss: 0.3556 - val_accuracy: 0.8612\n",
      "Epoch 79/100\n",
      "200/200 [==============================] - 1s 3ms/step - loss: 0.3145 - accuracy: 0.8703 - val_loss: 0.3488 - val_accuracy: 0.8619\n",
      "Epoch 80/100\n",
      "200/200 [==============================] - 1s 3ms/step - loss: 0.3019 - accuracy: 0.8747 - val_loss: 0.3470 - val_accuracy: 0.8669\n",
      "Epoch 81/100\n",
      "200/200 [==============================] - 1s 3ms/step - loss: 0.3059 - accuracy: 0.8755 - val_loss: 0.3471 - val_accuracy: 0.8606\n",
      "Epoch 82/100\n",
      "200/200 [==============================] - 1s 3ms/step - loss: 0.3046 - accuracy: 0.8728 - val_loss: 0.3486 - val_accuracy: 0.8631\n",
      "Epoch 83/100\n",
      "200/200 [==============================] - 1s 3ms/step - loss: 0.3071 - accuracy: 0.8739 - val_loss: 0.3476 - val_accuracy: 0.8662\n",
      "Epoch 84/100\n",
      "200/200 [==============================] - 1s 3ms/step - loss: 0.3103 - accuracy: 0.8725 - val_loss: 0.3491 - val_accuracy: 0.8612\n",
      "Epoch 85/100\n",
      "200/200 [==============================] - 1s 3ms/step - loss: 0.3062 - accuracy: 0.8733 - val_loss: 0.3462 - val_accuracy: 0.8669\n",
      "Epoch 86/100\n",
      "200/200 [==============================] - 1s 3ms/step - loss: 0.3042 - accuracy: 0.8716 - val_loss: 0.3586 - val_accuracy: 0.8600\n",
      "Epoch 87/100\n",
      "200/200 [==============================] - 1s 3ms/step - loss: 0.3097 - accuracy: 0.8736 - val_loss: 0.3511 - val_accuracy: 0.8637\n",
      "Epoch 88/100\n",
      "200/200 [==============================] - 1s 3ms/step - loss: 0.3052 - accuracy: 0.8734 - val_loss: 0.3495 - val_accuracy: 0.8619\n",
      "Epoch 89/100\n",
      "200/200 [==============================] - 1s 3ms/step - loss: 0.2982 - accuracy: 0.8809 - val_loss: 0.3480 - val_accuracy: 0.8606\n",
      "Epoch 90/100\n",
      "200/200 [==============================] - 1s 3ms/step - loss: 0.3025 - accuracy: 0.8748 - val_loss: 0.3515 - val_accuracy: 0.8656\n",
      "Epoch 91/100\n",
      "200/200 [==============================] - 1s 3ms/step - loss: 0.3015 - accuracy: 0.8758 - val_loss: 0.3481 - val_accuracy: 0.8625\n",
      "Epoch 92/100\n",
      "200/200 [==============================] - 1s 3ms/step - loss: 0.3056 - accuracy: 0.8730 - val_loss: 0.3471 - val_accuracy: 0.8619\n",
      "Epoch 93/100\n",
      "200/200 [==============================] - 1s 3ms/step - loss: 0.3042 - accuracy: 0.8761 - val_loss: 0.3517 - val_accuracy: 0.8594\n",
      "Epoch 94/100\n",
      "200/200 [==============================] - 1s 3ms/step - loss: 0.3073 - accuracy: 0.8742 - val_loss: 0.3508 - val_accuracy: 0.8612\n",
      "Epoch 95/100\n",
      "200/200 [==============================] - 1s 3ms/step - loss: 0.3029 - accuracy: 0.8741 - val_loss: 0.3508 - val_accuracy: 0.8631\n",
      "Epoch 96/100\n",
      "200/200 [==============================] - 1s 3ms/step - loss: 0.2979 - accuracy: 0.8756 - val_loss: 0.3517 - val_accuracy: 0.8600\n",
      "Epoch 97/100\n",
      "200/200 [==============================] - 1s 3ms/step - loss: 0.3059 - accuracy: 0.8730 - val_loss: 0.3517 - val_accuracy: 0.8619\n",
      "Epoch 98/100\n",
      "200/200 [==============================] - 1s 3ms/step - loss: 0.2968 - accuracy: 0.8764 - val_loss: 0.3502 - val_accuracy: 0.8550\n",
      "Epoch 99/100\n",
      "200/200 [==============================] - 1s 3ms/step - loss: 0.3060 - accuracy: 0.8739 - val_loss: 0.3526 - val_accuracy: 0.8569\n",
      "Epoch 100/100\n",
      "200/200 [==============================] - 1s 3ms/step - loss: 0.3039 - accuracy: 0.8736 - val_loss: 0.3535 - val_accuracy: 0.8594\n"
     ]
    }
   ],
   "source": [
    "#Fitting the ANN with batch_size = 32 and 100 epochs \n",
    "history = model.fit(X_train,y_train,batch_size=32,epochs=100,verbose=1,validation_split = 0.2)"
   ]
  },
  {
   "cell_type": "code",
   "execution_count": 97,
   "metadata": {
    "colab": {
     "base_uri": "https://localhost:8080/",
     "height": 295
    },
    "id": "IZcVD0PdbjFJ",
    "outputId": "ac62f1c8-916f-4c6b-d1a0-54bcc39ac929"
   },
   "outputs": [
    {
     "data": {
      "image/png": "[encoded data removed]",
      "text/plain": [
       "<Figure size 432x288 with 1 Axes>"
      ]
     },
     "metadata": {
      "needs_background": "light"
     },
     "output_type": "display_data"
    }
   ],
   "source": [
    "#Plotting Train Loss vs Validation Loss\n",
    "plt.plot(history.history['loss'])\n",
    "plt.plot(history.history['val_loss'])\n",
    "plt.title('model loss')\n",
    "plt.ylabel('Loss')\n",
    "plt.xlabel('Epoch')\n",
    "plt.legend(['train', 'validation'], loc='upper left')\n",
    "plt.show()\n"
   ]
  },
  {
   "cell_type": "markdown",
   "metadata": {
    "id": "_3UxtbW2br3a"
   },
   "source": [
    "As you can see from the above image, this model is severely overfitting. Deep learning models are very senstive to overfititng due to large amount of parameters. We need to find the optimal point where the training should be stopped. \n",
    "\n",
    "The best solution for the above problem is **Early stopping**.\n",
    "\n",
    "**Early stopping:** \n",
    "\n",
    "During training, the model is evaluated on a holdout validation dataset after each epoch. If the performance of the model on the validation dataset starts to degrade or no improvement (e.g. loss begins to increase or accuracy begins to decrease), then the training process is stopped after the certian interations.The model at the time that training is stopped is then used and is known to have good generalization performance.\n",
    "\n",
    "This procedure is called “early stopping” and is perhaps one of the oldest and most widely used forms of neural network regularization."
   ]
  },
  {
   "cell_type": "code",
   "execution_count": 98,
   "metadata": {
    "id": "o5w6Svfq03ez"
   },
   "outputs": [],
   "source": [
    "keras.backend.clear_session()"
   ]
  },
  {
   "cell_type": "code",
   "execution_count": 99,
   "metadata": {
    "colab": {
     "base_uri": "https://localhost:8080/"
    },
    "id": "SHUqpfOAnYyt",
    "outputId": "77fde801-222d-4508-b719-ade7d00dc026"
   },
   "outputs": [
    {
     "name": "stdout",
     "output_type": "stream",
     "text": [
      "Epoch 1/100\n",
      "200/200 [==============================] - 1s 4ms/step - loss: 0.4886 - accuracy: 0.7939 - val_loss: 0.4208 - val_accuracy: 0.8037 - lr: 0.0010\n",
      "Epoch 2/100\n",
      "200/200 [==============================] - 1s 3ms/step - loss: 0.4433 - accuracy: 0.8075 - val_loss: 0.4049 - val_accuracy: 0.8331 - lr: 0.0010\n",
      "Epoch 3/100\n",
      "200/200 [==============================] - 1s 3ms/step - loss: 0.4227 - accuracy: 0.8164 - val_loss: 0.3844 - val_accuracy: 0.8413 - lr: 0.0010\n",
      "Epoch 4/100\n",
      "200/200 [==============================] - 1s 3ms/step - loss: 0.4024 - accuracy: 0.8305 - val_loss: 0.3683 - val_accuracy: 0.8537 - lr: 0.0010\n",
      "Epoch 5/100\n",
      "200/200 [==============================] - 1s 3ms/step - loss: 0.3843 - accuracy: 0.8411 - val_loss: 0.3556 - val_accuracy: 0.8500 - lr: 0.0010\n",
      "Epoch 6/100\n",
      "200/200 [==============================] - 1s 3ms/step - loss: 0.3806 - accuracy: 0.8431 - val_loss: 0.3552 - val_accuracy: 0.8544 - lr: 0.0010\n",
      "Epoch 7/100\n",
      "200/200 [==============================] - 1s 3ms/step - loss: 0.3686 - accuracy: 0.8483 - val_loss: 0.3542 - val_accuracy: 0.8587 - lr: 0.0010\n",
      "Epoch 8/100\n",
      "200/200 [==============================] - 1s 3ms/step - loss: 0.3633 - accuracy: 0.8494 - val_loss: 0.3468 - val_accuracy: 0.8562 - lr: 0.0010\n",
      "Epoch 9/100\n",
      "200/200 [==============================] - 1s 3ms/step - loss: 0.3605 - accuracy: 0.8516 - val_loss: 0.3432 - val_accuracy: 0.8537 - lr: 0.0010\n",
      "Epoch 10/100\n",
      "200/200 [==============================] - 1s 3ms/step - loss: 0.3599 - accuracy: 0.8541 - val_loss: 0.3481 - val_accuracy: 0.8625 - lr: 0.0010\n",
      "Epoch 11/100\n",
      "200/200 [==============================] - 1s 3ms/step - loss: 0.3561 - accuracy: 0.8552 - val_loss: 0.3438 - val_accuracy: 0.8575 - lr: 0.0010\n",
      "Epoch 12/100\n",
      "200/200 [==============================] - 1s 3ms/step - loss: 0.3572 - accuracy: 0.8553 - val_loss: 0.3503 - val_accuracy: 0.8575 - lr: 0.0010\n",
      "Epoch 13/100\n",
      "200/200 [==============================] - 1s 3ms/step - loss: 0.3509 - accuracy: 0.8558 - val_loss: 0.3456 - val_accuracy: 0.8556 - lr: 0.0010\n",
      "Epoch 14/100\n",
      "200/200 [==============================] - 1s 3ms/step - loss: 0.3519 - accuracy: 0.8570 - val_loss: 0.3439 - val_accuracy: 0.8587 - lr: 0.0010\n",
      "Epoch 15/100\n",
      "200/200 [==============================] - 1s 3ms/step - loss: 0.3483 - accuracy: 0.8598 - val_loss: 0.3438 - val_accuracy: 0.8537 - lr: 0.0010\n",
      "Epoch 16/100\n",
      "200/200 [==============================] - 1s 3ms/step - loss: 0.3505 - accuracy: 0.8558 - val_loss: 0.3457 - val_accuracy: 0.8512 - lr: 0.0010\n",
      "Epoch 17/100\n",
      "200/200 [==============================] - 1s 3ms/step - loss: 0.3449 - accuracy: 0.8602 - val_loss: 0.3438 - val_accuracy: 0.8537 - lr: 0.0010\n",
      "Epoch 18/100\n",
      "200/200 [==============================] - 1s 3ms/step - loss: 0.3480 - accuracy: 0.8598 - val_loss: 0.3466 - val_accuracy: 0.8512 - lr: 0.0010\n",
      "Epoch 19/100\n",
      "200/200 [==============================] - 1s 3ms/step - loss: 0.3475 - accuracy: 0.8598 - val_loss: 0.3463 - val_accuracy: 0.8575 - lr: 0.0010\n",
      "Epoch 20/100\n",
      "200/200 [==============================] - 1s 3ms/step - loss: 0.3395 - accuracy: 0.8622 - val_loss: 0.3479 - val_accuracy: 0.8525 - lr: 0.0010\n",
      "Epoch 21/100\n",
      "200/200 [==============================] - 1s 3ms/step - loss: 0.3403 - accuracy: 0.8620 - val_loss: 0.3481 - val_accuracy: 0.8556 - lr: 0.0010\n",
      "Epoch 22/100\n",
      "200/200 [==============================] - 1s 3ms/step - loss: 0.3429 - accuracy: 0.8614 - val_loss: 0.3438 - val_accuracy: 0.8519 - lr: 0.0010\n",
      "Epoch 23/100\n",
      "200/200 [==============================] - 1s 3ms/step - loss: 0.3439 - accuracy: 0.8595 - val_loss: 0.3467 - val_accuracy: 0.8562 - lr: 0.0010\n",
      "Epoch 24/100\n",
      "200/200 [==============================] - 1s 3ms/step - loss: 0.3383 - accuracy: 0.8628 - val_loss: 0.3486 - val_accuracy: 0.8544 - lr: 0.0010\n",
      "Epoch 25/100\n",
      "200/200 [==============================] - 1s 3ms/step - loss: 0.3386 - accuracy: 0.8623 - val_loss: 0.3458 - val_accuracy: 0.8525 - lr: 0.0010\n"
     ]
    }
   ],
   "source": [
    "#Importing classback API\n",
    "from keras import callbacks \n",
    "es_cb = callbacks.EarlyStopping(monitor='val_loss', min_delta=0.001, patience=15)\n",
    "reduce_lr = callbacks.ReduceLROnPlateau(monitor='val_loss', factor=0.5,\n",
    "                              patience=5, min_lr=0.001)\n",
    "model_e=create_model()\n",
    "#Fitting the ANN with batch_size = 32 and 100 epochs \n",
    "history_e = model_e.fit(X_train,y_train,batch_size=32,\n",
    "                        epochs=100,verbose=1,validation_split = 0.2,callbacks=[es_cb, reduce_lr])"
   ]
  },
  {
   "cell_type": "markdown",
   "metadata": {
    "id": "YHY5AVeCbzJg"
   },
   "source": [
    "Lets plot the loss function again"
   ]
  },
  {
   "cell_type": "code",
   "execution_count": 100,
   "metadata": {
    "colab": {
     "base_uri": "https://localhost:8080/",
     "height": 295
    },
    "id": "Rw9wplWKoDlt",
    "outputId": "745db887-64d1-4442-ff96-1943981d4776"
   },
   "outputs": [
    {
     "data": {
      "image/png": "[encoded data removed]",
      "text/plain": [
       "<Figure size 432x288 with 1 Axes>"
      ]
     },
     "metadata": {
      "needs_background": "light"
     },
     "output_type": "display_data"
    }
   ],
   "source": [
    "#Plotting Train Loss vs Validation Loss\n",
    "plt.plot(history_e.history['loss'])\n",
    "plt.plot(history_e.history['val_loss'])\n",
    "plt.title('model loss')\n",
    "plt.ylabel('Loss')\n",
    "plt.xlabel('Epoch')\n",
    "plt.legend(['train', 'validation'], loc='upper left')\n",
    "plt.show()\n"
   ]
  },
  {
   "cell_type": "markdown",
   "metadata": {
    "id": "-tUqmdO7o-wt"
   },
   "source": [
    "As you can see from the above graph, Training is stopped at the appropriate epoch because after that, loss function started to increase. Therefore, Early stopping prevents the overfitting"
   ]
  },
  {
   "cell_type": "markdown",
   "metadata": {
    "id": "fO_RDZZnb9IV"
   },
   "source": [
    "Accuracy, Precision, Recall, and F1-Scores"
   ]
  },
  {
   "cell_type": "markdown",
   "metadata": {
    "id": "n9Zn_Q6ryeTr"
   },
   "source": [
    "##Hyperparameter Optimization"
   ]
  },
  {
   "cell_type": "markdown",
   "metadata": {
    "id": "dS18Dx5nyeT2"
   },
   "source": [
    "Some important parameters to look out for while optimizing neural networks are:\n",
    "\n",
    "-Type of architecture\n",
    "\n",
    "-Number of Layers\n",
    "\n",
    "-Number of Neurons in a layer\n",
    "\n",
    "-Regularization parameters\n",
    "\n",
    "-Learning Rate\n",
    "\n",
    "-Type of optimization / backpropagation technique to use\n",
    "\n",
    "-Dropout rate\n",
    "\n",
    "-Weight sharing"
   ]
  },
  {
   "cell_type": "code",
   "execution_count": 112,
   "metadata": {
    "id": "u8dDyjF05VeQ"
   },
   "outputs": [],
   "source": [
    "keras.backend.clear_session()"
   ]
  },
  {
   "cell_type": "code",
   "execution_count": null,
   "metadata": {},
   "outputs": [],
   "source": [
    "def create_model_v2(dropout_rate=0.1,lr=0.001,layer_1=64,neurons=[32,32,32,32]):  \n",
    "    np.random.seed(1)\n",
    "    model = Sequential()\n",
    "    # This adds the input layer (by specifying input dimension) AND the first hidden layer (units)\n",
    "    model.add(Dense(layer_1,activation='relu',input_dim = X_train.shape[1]))\n",
    "    #Adding dropout layer\n",
    "    n = len(neurons)+1\n",
    "    model.add(Dropout(dropout_rate))\n",
    "    for x in range(1,n-1):\n",
    "        model.add(Dense(neurons[x-1],activation='relu'))\n",
    "        model.add(Dropout(dropout_rate))\n",
    "    # we have an output of 1 node, which is the the desired dimensions of our output (stay with the bank or not)\n",
    "    # We use the sigmoid because we want probability outcomes\n",
    "    model.add(Dense(1, activation='sigmoid'))\n",
    "\n",
    "    #compile model\n",
    "    optimizer = tf.keras.optimizers.Adam(learning_rate=lr)\n",
    "    model.compile(optimizer = optimizer,loss = 'binary_crossentropy', metrics = ['accuracy'])\n",
    "    return model"
   ]
  },
  {
   "cell_type": "markdown",
   "metadata": {
    "id": "Fn8w3HaOyeT2"
   },
   "source": [
    "##### Number of Layers:\n",
    "We will keep it similar to the above model so that we can compare the accuracy.\n",
    "1 hidden layer.\n",
    "\n",
    "##### Activation:\n",
    "input layer: relu becasue we are in an input layer. uses the ReLu activation function for  ϕ\n",
    "output layer: sigmoid becasue we are in an output layer. uses the Sigmoid activation function for  ϕ . This is used instead of the ReLu function becasue it generates probabilities for the outcome. We want the probability that each customer leaves the bank.\n",
    "\n",
    "##### Type of optimization / backpropagation technique to use: \n",
    "We will use Adam. Adam is a very efficeint variation of Stochastic Gradient Descent. For Adam and its variant, learning rate or the decay rate does not really matter too much.\n",
    "\n",
    "##### Learning Rate:\n",
    "default learning rate 0.001.\n",
    "\n",
    "##### Number of Neurons in a layer:\n",
    "We will keep it 6 as per our initial calculation above.\n",
    "\n",
    "##### Weight sharing / kernel_initializer: \n",
    "uniform the distribution with which we randomly initialize weights for the nodes in this layer.\n",
    "\n",
    "##### Loss:\n",
    "loss: binary_crossentropy This is the loss function used within adam. This should be the logarthmic loss. If our dependent (output variable) is Binary, it is binary_crossentropy. If Categorical, then it is called categorical_crossentropy\n",
    "\n",
    "Rebuilding the model using these optimised parameters\n",
    "\n",
    "\n",
    "Let's try to use drop out to reduce  overfitting. Here, we will not be using earlystopping because earlystopping also have some drawbacks. We should try using it with the complex models"
   ]
  },
  {
   "cell_type": "code",
   "execution_count": 113,
   "metadata": {
    "id": "35OEX3bNyeT3"
   },
   "outputs": [],
   "source": [
    "def create_model_v2(dropout_rate=0.1,lr=0.001,layer_1=64,layer_2=32):  \n",
    "    np.random.seed(1)\n",
    "    model = Sequential()\n",
    "    # This adds the input layer (by specifying input dimension) AND the first hidden layer (units)\n",
    "    model.add(Dense(layer_1,activation='relu',input_dim = X_train.shape[1]))\n",
    "    #Adding dropout layer\n",
    "    model.add(Dropout(dropout_rate))\n",
    "    model.add(Dense(layer_2,activation='relu'))\n",
    "    model.add(Dropout(dropout_rate))\n",
    "    model.add(Dense(layer_2,activation='relu'))\n",
    "    model.add(Dropout(dropout_rate))\n",
    "    model.add(Dense(layer_2,activation='relu'))\n",
    "    model.add(Dropout(dropout_rate))\n",
    "    # # Adding the hidden layer\n",
    "    # Notice that we do not need to specify input dim. \n",
    "    model.add(Dense(layer_2,activation='relu'))\n",
    "    # # Adding the output layer\n",
    "    # Notice that we do not need to specify input dim. \n",
    "    # we have an output of 1 node, which is the the desired dimensions of our output (stay with the bank or not)\n",
    "    # We use the sigmoid because we want probability outcomes\n",
    "    model.add(Dense(1, activation='sigmoid'))\n",
    "\n",
    "    #compile model\n",
    "    optimizer = tf.keras.optimizers.Adam(learning_rate=lr)\n",
    "    model.compile(optimizer = optimizer,loss = 'binary_crossentropy', metrics = ['accuracy'])\n",
    "    return model"
   ]
  },
  {
   "cell_type": "markdown",
   "metadata": {
    "id": "fcBG9ypKyeT3"
   },
   "source": [
    "##Using Grid search\n",
    "\n",
    "We are using grid search to optimize thwo hyperparameters called **batch size, epochs** due to the limited time. But you can optimize the other hyperparameters as mentioned above"
   ]
  },
  {
   "cell_type": "code",
   "execution_count": 114,
   "metadata": {
    "colab": {
     "base_uri": "https://localhost:8080/"
    },
    "id": "0S0ezhBqyeT3",
    "outputId": "516512da-dbea-4b4d-ca09-ec8bdaf61ff9",
    "scrolled": true
   },
   "outputs": [
    {
     "name": "stderr",
     "output_type": "stream",
     "text": [
      "/usr/local/lib/python3.7/dist-packages/ipykernel_launcher.py:1: DeprecationWarning: KerasClassifier is deprecated, use Sci-Keras (https://github.com/adriangb/scikeras) instead.\n",
      "  \"\"\"Entry point for launching an IPython kernel.\n"
     ]
    }
   ],
   "source": [
    "keras_estimator = KerasClassifier(build_fn=create_model_v2, verbose=1)"
   ]
  },
  {
   "cell_type": "code",
   "execution_count": 115,
   "metadata": {
    "id": "r1IiggQryeT4"
   },
   "outputs": [],
   "source": [
    "# define the grid search parameters\n",
    "param_grid = {\n",
    "    'batch_size':[40, 64, 128],\n",
    "    \"lr\":[0.01,0.001,0.1],\n",
    "    \"layer_2\": [32,64,16],\n",
    "    \"dropout_rate\":[.1,.2]\n",
    "   \n",
    "    \n",
    "}\n",
    "\n",
    "grid = GridSearchCV(estimator=keras_estimator,  \n",
    "                    verbose=1,\n",
    "                    cv=5,  \n",
    "                    param_grid=param_grid,n_jobs=-1)"
   ]
  },
  {
   "cell_type": "code",
   "execution_count": 116,
   "metadata": {
    "colab": {
     "base_uri": "https://localhost:8080/"
    },
    "id": "Wli7_fU3yeT4",
    "outputId": "0ce7c07a-74c8-4acb-bf7b-cdf7c61537a2"
   },
   "outputs": [
    {
     "name": "stdout",
     "output_type": "stream",
     "text": [
      "Fitting 3 folds for each of 54 candidates, totalling 162 fits\n",
      "100/100 [==============================] - 1s 5ms/step - loss: 0.4369 - accuracy: 0.8208 - val_loss: 0.3645 - val_accuracy: 0.8487\n",
      "Best: 0.839999 using {'batch_size': 64, 'dropout_rate': 0.1, 'layer_2': 64, 'lr': 0.01}\n"
     ]
    }
   ],
   "source": [
    "grid_result = grid.fit(X_train, y_train,validation_split=0.2,verbose=1) \n",
    "\n",
    "# Summarize results\n",
    "print(\"Best: %f using %s\" % (grid_result.best_score_, grid_result.best_params_))\n",
    "means = grid_result.cv_results_['mean_test_score']\n",
    "stds = grid_result.cv_results_['std_test_score']\n",
    "params = grid_result.cv_results_['params']"
   ]
  },
  {
   "cell_type": "markdown",
   "metadata": {
    "id": "RWqBmVNdyeT5"
   },
   "source": [
    "##Let's create the final model with above mentioned configuration"
   ]
  },
  {
   "cell_type": "code",
   "execution_count": 121,
   "metadata": {
    "id": "BF8AwPJz9JxL"
   },
   "outputs": [],
   "source": [
    "keras.backend.clear_session()"
   ]
  },
  {
   "cell_type": "code",
   "execution_count": 122,
   "metadata": {
    "colab": {
     "base_uri": "https://localhost:8080/"
    },
    "id": "skxGXsQfyeT5",
    "outputId": "873f32a1-97d2-4fd4-cb77-74aacaa2128d"
   },
   "outputs": [
    {
     "name": "stdout",
     "output_type": "stream",
     "text": [
      "Model: \"sequential\"\n",
      "_________________________________________________________________\n",
      " Layer (type)                Output Shape              Param #   \n",
      "=================================================================\n",
      " dense (Dense)               (None, 64)                768       \n",
      "                                                                 \n",
      " dropout (Dropout)           (None, 64)                0         \n",
      "                                                                 \n",
      " dense_1 (Dense)             (None, 64)                4160      \n",
      "                                                                 \n",
      " dropout_1 (Dropout)         (None, 64)                0         \n",
      "                                                                 \n",
      " dense_2 (Dense)             (None, 64)                4160      \n",
      "                                                                 \n",
      " dropout_2 (Dropout)         (None, 64)                0         \n",
      "                                                                 \n",
      " dense_3 (Dense)             (None, 64)                4160      \n",
      "                                                                 \n",
      " dropout_3 (Dropout)         (None, 64)                0         \n",
      "                                                                 \n",
      " dense_4 (Dense)             (None, 64)                4160      \n",
      "                                                                 \n",
      " dense_5 (Dense)             (None, 1)                 65        \n",
      "                                                                 \n",
      "=================================================================\n",
      "Total params: 17,473\n",
      "Trainable params: 17,473\n",
      "Non-trainable params: 0\n",
      "_________________________________________________________________\n"
     ]
    }
   ],
   "source": [
    "estimator_v2=create_model_v2(lr=grid_result.best_params_['lr'], dropout_rate=.1,\n",
    "                             layer_2= 64)\n",
    "\n",
    "estimator_v2.summary()\n"
   ]
  },
  {
   "cell_type": "code",
   "execution_count": 123,
   "metadata": {
    "colab": {
     "base_uri": "https://localhost:8080/"
    },
    "id": "rkc1h61OyeT5",
    "outputId": "0dc29cc7-eee0-4cd8-d692-4cd3c8d1b537"
   },
   "outputs": [
    {
     "name": "stdout",
     "output_type": "stream",
     "text": [
      "Epoch 1/100\n",
      "100/100 [==============================] - 1s 5ms/step - loss: 0.4501 - accuracy: 0.7997 - val_loss: 0.3787 - val_accuracy: 0.8375 - lr: 0.0100\n",
      "Epoch 2/100\n",
      "100/100 [==============================] - 0s 4ms/step - loss: 0.3890 - accuracy: 0.8355 - val_loss: 0.4044 - val_accuracy: 0.8419 - lr: 0.0100\n",
      "Epoch 3/100\n",
      "100/100 [==============================] - 0s 4ms/step - loss: 0.3699 - accuracy: 0.8511 - val_loss: 0.3565 - val_accuracy: 0.8469 - lr: 0.0100\n",
      "Epoch 4/100\n",
      "100/100 [==============================] - 0s 4ms/step - loss: 0.3602 - accuracy: 0.8559 - val_loss: 0.3629 - val_accuracy: 0.8631 - lr: 0.0100\n",
      "Epoch 5/100\n",
      "100/100 [==============================] - 0s 4ms/step - loss: 0.3619 - accuracy: 0.8527 - val_loss: 0.3496 - val_accuracy: 0.8569 - lr: 0.0100\n",
      "Epoch 6/100\n",
      "100/100 [==============================] - 0s 4ms/step - loss: 0.3492 - accuracy: 0.8581 - val_loss: 0.3537 - val_accuracy: 0.8512 - lr: 0.0100\n",
      "Epoch 7/100\n",
      "100/100 [==============================] - 0s 4ms/step - loss: 0.3548 - accuracy: 0.8578 - val_loss: 0.3473 - val_accuracy: 0.8581 - lr: 0.0100\n",
      "Epoch 8/100\n",
      "100/100 [==============================] - 0s 4ms/step - loss: 0.3465 - accuracy: 0.8580 - val_loss: 0.3629 - val_accuracy: 0.8537 - lr: 0.0100\n",
      "Epoch 9/100\n",
      "100/100 [==============================] - 0s 3ms/step - loss: 0.3449 - accuracy: 0.8619 - val_loss: 0.3395 - val_accuracy: 0.8569 - lr: 0.0100\n",
      "Epoch 10/100\n",
      "100/100 [==============================] - 0s 4ms/step - loss: 0.3460 - accuracy: 0.8584 - val_loss: 0.3757 - val_accuracy: 0.8462 - lr: 0.0100\n",
      "Epoch 11/100\n",
      "100/100 [==============================] - 0s 4ms/step - loss: 0.3453 - accuracy: 0.8598 - val_loss: 0.3487 - val_accuracy: 0.8575 - lr: 0.0100\n",
      "Epoch 12/100\n",
      "100/100 [==============================] - 0s 3ms/step - loss: 0.3416 - accuracy: 0.8602 - val_loss: 0.3510 - val_accuracy: 0.8544 - lr: 0.0100\n",
      "Epoch 13/100\n",
      "100/100 [==============================] - 0s 4ms/step - loss: 0.3359 - accuracy: 0.8655 - val_loss: 0.3699 - val_accuracy: 0.8375 - lr: 0.0100\n",
      "Epoch 14/100\n",
      "100/100 [==============================] - 0s 3ms/step - loss: 0.3461 - accuracy: 0.8583 - val_loss: 0.3502 - val_accuracy: 0.8556 - lr: 0.0100\n",
      "Epoch 15/100\n",
      "100/100 [==============================] - 0s 4ms/step - loss: 0.3280 - accuracy: 0.8669 - val_loss: 0.3501 - val_accuracy: 0.8581 - lr: 0.0050\n",
      "Epoch 16/100\n",
      "100/100 [==============================] - 0s 4ms/step - loss: 0.3253 - accuracy: 0.8650 - val_loss: 0.3524 - val_accuracy: 0.8550 - lr: 0.0050\n",
      "Epoch 17/100\n",
      "100/100 [==============================] - 0s 4ms/step - loss: 0.3247 - accuracy: 0.8662 - val_loss: 0.3468 - val_accuracy: 0.8581 - lr: 0.0050\n",
      "Epoch 18/100\n",
      "100/100 [==============================] - 0s 3ms/step - loss: 0.3189 - accuracy: 0.8684 - val_loss: 0.3525 - val_accuracy: 0.8531 - lr: 0.0050\n",
      "Epoch 19/100\n",
      "100/100 [==============================] - 0s 4ms/step - loss: 0.3141 - accuracy: 0.8725 - val_loss: 0.3486 - val_accuracy: 0.8500 - lr: 0.0050\n",
      "Epoch 20/100\n",
      "100/100 [==============================] - 0s 3ms/step - loss: 0.3075 - accuracy: 0.8689 - val_loss: 0.3478 - val_accuracy: 0.8556 - lr: 0.0025\n",
      "Epoch 21/100\n",
      "100/100 [==============================] - 0s 3ms/step - loss: 0.3030 - accuracy: 0.8720 - val_loss: 0.3567 - val_accuracy: 0.8550 - lr: 0.0025\n",
      "Epoch 22/100\n",
      "100/100 [==============================] - 0s 3ms/step - loss: 0.3044 - accuracy: 0.8728 - val_loss: 0.3519 - val_accuracy: 0.8537 - lr: 0.0025\n",
      "Epoch 23/100\n",
      "100/100 [==============================] - 0s 4ms/step - loss: 0.3031 - accuracy: 0.8767 - val_loss: 0.3593 - val_accuracy: 0.8525 - lr: 0.0025\n",
      "Epoch 24/100\n",
      "100/100 [==============================] - 0s 4ms/step - loss: 0.3013 - accuracy: 0.8737 - val_loss: 0.3544 - val_accuracy: 0.8525 - lr: 0.0025\n",
      "Epoch 25/100\n",
      "100/100 [==============================] - 0s 4ms/step - loss: 0.2945 - accuracy: 0.8752 - val_loss: 0.3559 - val_accuracy: 0.8550 - lr: 0.0012\n"
     ]
    }
   ],
   "source": [
    "\n",
    "history_h=estimator_v2.fit(X_train, y_train, epochs=100, batch_size = grid_result.best_params_['batch_size'],\n",
    "                           callbacks=[es_cb, reduce_lr], verbose=1,validation_split=0.2)"
   ]
  },
  {
   "cell_type": "markdown",
   "metadata": {
    "id": "0c4KjK_nyeT6"
   },
   "source": [
    "Plotting the validation and training loss"
   ]
  },
  {
   "cell_type": "code",
   "execution_count": 125,
   "metadata": {
    "colab": {
     "base_uri": "https://localhost:8080/",
     "height": 667
    },
    "id": "mbATbYWfyeT6",
    "outputId": "242e24be-9fd7-434b-a3eb-1ec11d9d1a3a"
   },
   "outputs": [
    {
     "name": "stderr",
     "output_type": "stream",
     "text": [
      "/usr/local/lib/python3.7/dist-packages/ipykernel_launcher.py:9: MatplotlibDeprecationWarning: Unrecognized location 'middle'. Falling back on 'best'; valid locations are\n",
      "\tbest\n",
      "\tupper right\n",
      "\tupper left\n",
      "\tlower left\n",
      "\tlower right\n",
      "\tright\n",
      "\tcenter left\n",
      "\tcenter right\n",
      "\tlower center\n",
      "\tupper center\n",
      "\tcenter\n",
      "This will raise an exception in 3.3.\n",
      "  if __name__ == '__main__':\n"
     ]
    },
    {
     "data": {
      "image/png": "[encoded data removed]",
      "text/plain": [
       "<Figure size 576x432 with 1 Axes>"
      ]
     },
     "metadata": {
      "needs_background": "light"
     },
     "output_type": "display_data"
    }
   ],
   "source": [
    "N =25\n",
    "plt.figure(figsize=(8,6))\n",
    "plt.plot(np.arange(0, N), history_h.history[\"loss\"], label=\"train_loss\")\n",
    "plt.plot(np.arange(0, N), history_h.history[\"val_loss\"], label=\"val_loss\")\n",
    "\n",
    "plt.title(\"Training Loss and Validation loss on the dataset\")\n",
    "plt.xlabel(\"Epoch #\")\n",
    "plt.ylabel(\"train_Loss/val_loss\")\n",
    "plt.legend(loc=\"middle\")\n",
    "plt.show()"
   ]
  },
  {
   "cell_type": "markdown",
   "metadata": {
    "id": "FNFL2wzbkvRC"
   },
   "source": [
    "As you can seen , the above model's validation curve does not have high slope which means it has  not decreased much. Let's check other metrices to understand how this model works "
   ]
  },
  {
   "cell_type": "markdown",
   "metadata": {
    "id": "DPLOTnKRsP9Y"
   },
   "source": [
    "### Finding the optimal threshold "
   ]
  },
  {
   "cell_type": "code",
   "execution_count": 128,
   "metadata": {
    "colab": {
     "base_uri": "https://localhost:8080/",
     "height": 297
    },
    "id": "p3f4HN8MAeL1",
    "outputId": "6e64fd70-3f9b-46f5-9cdb-03056faa964f"
   },
   "outputs": [
    {
     "name": "stdout",
     "output_type": "stream",
     "text": [
      "Best Threshold=0.257004, G-Mean=0.786\n"
     ]
    },
    {
     "data": {
      "image/png": "[encoded data removed]",
      "text/plain": [
       "<Figure size 432x288 with 1 Axes>"
      ]
     },
     "metadata": {
      "needs_background": "light"
     },
     "output_type": "display_data"
    }
   ],
   "source": [
    "from sklearn.metrics import roc_curve\n",
    "\n",
    "from matplotlib import pyplot\n",
    "\n",
    "\n",
    "# predict probabilities\n",
    "yhat = estimator_v2.predict(X_test)\n",
    "# keep probabilities for the positive outcome only\n",
    "yhat = yhat[:, 0]\n",
    "# calculate roc curves\n",
    "fpr, tpr, thresholds = roc_curve(y_test, yhat)\n",
    "# calculate the g-mean for each threshold\n",
    "gmeans = np.sqrt(tpr * (1-fpr))\n",
    "# locate the index of the largest g-mean\n",
    "ix = np.argmax(gmeans)\n",
    "print('Best Threshold=%f, G-Mean=%.3f' % (thresholds[ix], gmeans[ix]))\n",
    "# plot the roc curve for the model\n",
    "pyplot.plot([0,1], [0,1], linestyle='--', label='No Skill')\n",
    "pyplot.plot(fpr, tpr, marker='.', label='Logistic')\n",
    "pyplot.scatter(fpr[ix], tpr[ix], marker='o', color='black', label='Best')\n",
    "# axis labels\n",
    "pyplot.xlabel('False Positive Rate')\n",
    "pyplot.ylabel('True Positive Rate')\n",
    "pyplot.legend()\n",
    "# show the plot\n",
    "pyplot.show()"
   ]
  },
  {
   "cell_type": "markdown",
   "metadata": {
    "id": "ptZLKhZ0HURX"
   },
   "source": [
    "#### Predict the results using best threshold "
   ]
  },
  {
   "cell_type": "code",
   "execution_count": 126,
   "metadata": {
    "colab": {
     "base_uri": "https://localhost:8080/"
    },
    "id": "GttaoUVkHURZ",
    "outputId": "ba882cc0-18ea-4555-c1c0-8e22d4ab6f11"
   },
   "outputs": [
    {
     "name": "stdout",
     "output_type": "stream",
     "text": [
      "[[0.00693965]\n",
      " [0.00148493]\n",
      " [0.1406095 ]\n",
      " ...\n",
      " [0.6949972 ]\n",
      " [0.16600803]\n",
      " [0.26049876]]\n"
     ]
    }
   ],
   "source": [
    "y_pred_h = estimator_v2.predict(X_test)\n",
    "print(y_pred_h)"
   ]
  },
  {
   "cell_type": "code",
   "execution_count": 129,
   "metadata": {
    "colab": {
     "base_uri": "https://localhost:8080/"
    },
    "id": "nPwZePRlHURf",
    "outputId": "8061f7b7-b3c4-4623-dd45-6afbcc10cbed"
   },
   "outputs": [
    {
     "name": "stdout",
     "output_type": "stream",
     "text": [
      "[[False]\n",
      " [False]\n",
      " [False]\n",
      " ...\n",
      " [ True]\n",
      " [False]\n",
      " [ True]]\n"
     ]
    }
   ],
   "source": [
    "# To use the confusion Matrix, we need to convert the probabilities that a customer will leave the bank into the form true or false. \n",
    "# So we will use the tuned cutoff value to indicate whether they are likely to exit or not.\n",
    "y_pred_h = (y_pred_h > thresholds[ix])\n",
    "print(y_pred_h)"
   ]
  },
  {
   "cell_type": "markdown",
   "metadata": {
    "id": "APzf2XxgHURk"
   },
   "source": [
    "#### Print the confusion matrix"
   ]
  },
  {
   "cell_type": "code",
   "execution_count": 130,
   "metadata": {
    "colab": {
     "base_uri": "https://localhost:8080/"
    },
    "id": "KE3qpaFuHURp",
    "outputId": "bc38876c-b990-4037-b5e8-cb36d724a39f"
   },
   "outputs": [
    {
     "name": "stdout",
     "output_type": "stream",
     "text": [
      "              precision    recall  f1-score   support\n",
      "\n",
      "           0       0.93      0.84      0.88      1607\n",
      "           1       0.53      0.73      0.62       393\n",
      "\n",
      "    accuracy                           0.82      2000\n",
      "   macro avg       0.73      0.79      0.75      2000\n",
      "weighted avg       0.85      0.82      0.83      2000\n",
      "\n"
     ]
    }
   ],
   "source": [
    "#lets print classification report\n",
    "from sklearn import metrics\n",
    "cr=metrics.classification_report(y_test,y_pred_h)\n",
    "print(cr)"
   ]
  },
  {
   "cell_type": "code",
   "execution_count": 131,
   "metadata": {
    "colab": {
     "base_uri": "https://localhost:8080/",
     "height": 338
    },
    "id": "8kC2hKKdHURm",
    "outputId": "bd8370d9-b4e1-4307-fac7-3507727f0c1d"
   },
   "outputs": [
    {
     "data": {
      "image/png": "[encoded data removed]",
      "text/plain": [
       "<Figure size 432x288 with 2 Axes>"
      ]
     },
     "metadata": {
      "needs_background": "light"
     },
     "output_type": "display_data"
    }
   ],
   "source": [
    "\n",
    "\n",
    "#Calculating the confusion matrix \n",
    "cm_h=confusion_matrix(y_test, y_pred_h)\n",
    "labels = ['True Negative','False Positive','False Negative','True Positive']\n",
    "categories = [ 'Not_Exited','Exited']\n",
    "make_confusion_matrix(cm_h, \n",
    "                      group_names=labels,\n",
    "                      categories=categories, \n",
    "                      cmap='Blues')"
   ]
  },
  {
   "cell_type": "markdown",
   "metadata": {
    "id": "XE1iHOqqOEmV"
   },
   "source": [
    "##**Conclusion:**\n",
    "\n",
    "* The older customers are churning at more than the younger ones alluding to a difference in service preference in the age categories. The bank may need to review their target market or review the strategy for retention between the different age groups\n",
    "\n",
    "* With regard to the tenure, the clients on either extreme end (spent little time with the bank or a lot of time with the bank) are more likely to churn compared to those that are of average tenure. Worryingly, the bank is losing customers with significant bank balances which is likely to hit their available capital for lending.\n",
    "\n",
    "* The proportion of female customers churning is also greater than that of male customers\n",
    "Interestingly, majority of the customers that churned are those with credit cards. Given that majority of the customers have credit cards could prove this to be just a coincidence.\n",
    "\n",
    "\n",
    "* Unsurprisingly the inactive members have a greater churn. \n",
    "Worryingly is that the overall proportion of inactive mebers is quite high suggesting that the bank may need a program implemented to turn this group to active customers as this will definately have a positive impact on the customer churn\n",
    "\n"
   ]
  },
  {
   "cell_type": "markdown",
   "metadata": {
    "id": "kbRxXISJHURt"
   },
   "source": [
    "#### The optimised model gives better results as seen from the confusion matrix as well as improved accuracy.\n",
    "\n"
   ]
  }
 ],
 "metadata": {
  "colab": {
   "collapsed_sections": [
    "CUXPaUwZHUO8",
    "XE1iHOqqOEmV",
    "kbRxXISJHURt"
   ],
   "name": "Project_Solution_Notebook_Bank_Churn_Prediction_tu_(1)_1_(2).ipynb",
   "provenance": []
  },
  "kernelspec": {
   "display_name": "Python 3",
   "language": "python",
   "name": "python3"
  },
  "language_info": {
   "codemirror_mode": {
    "name": "ipython",
    "version": 3
   },
   "file_extension": ".py",
   "mimetype": "text/x-python",
   "name": "python",
   "nbconvert_exporter": "python",
   "pygments_lexer": "ipython3",
   "version": "3.8.8"
  }
 },
 "nbformat": 4,
 "nbformat_minor": 1
}
